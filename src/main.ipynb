{
 "cells": [
  {
   "cell_type": "code",
   "execution_count": 1,
   "metadata": {},
   "outputs": [],
   "source": [
    "import pandas as pd"
   ]
  },
  {
   "cell_type": "code",
   "execution_count": 2,
   "metadata": {},
   "outputs": [],
   "source": [
    "emdat_path = \"/home/nissim/Documents/dev/arg-inundaciones/data/public_emdat_custom_request_2025-06-26_fe5041a7-dc26-4391-aef0-f49e5e5d8657.xlsx\"\n",
    "emdat = pd.read_excel(emdat_path)"
   ]
  },
  {
   "cell_type": "code",
   "execution_count": 3,
   "metadata": {},
   "outputs": [
    {
     "name": "stdout",
     "output_type": "stream",
     "text": [
      "['DisNo.', 'Historic', 'Classification Key', 'Disaster Group', 'Disaster Subgroup', 'Disaster Type', 'Disaster Subtype', 'External IDs', 'Event Name', 'ISO', 'Country', 'Subregion', 'Region', 'Location', 'Origin', 'Associated Types', 'OFDA/BHA Response', 'Appeal', 'Declaration', \"AID Contribution ('000 US$)\", 'Magnitude', 'Magnitude Scale', 'Latitude', 'Longitude', 'River Basin', 'Start Year', 'Start Month', 'Start Day', 'End Year', 'End Month', 'End Day', 'Total Deaths', 'No. Injured', 'No. Affected', 'No. Homeless', 'Total Affected', \"Reconstruction Costs ('000 US$)\", \"Reconstruction Costs, Adjusted ('000 US$)\", \"Insured Damage ('000 US$)\", \"Insured Damage, Adjusted ('000 US$)\", \"Total Damage ('000 US$)\", \"Total Damage, Adjusted ('000 US$)\", 'CPI', 'Admin Units', 'Entry Date', 'Last Update']\n"
     ]
    }
   ],
   "source": [
    "print(emdat.columns.to_list())"
   ]
  },
  {
   "cell_type": "code",
   "execution_count": 4,
   "metadata": {},
   "outputs": [
    {
     "name": "stdout",
     "output_type": "stream",
     "text": [
      "Column dtype: object\n",
      "Column type: <class 'pandas.core.series.Series'>\n",
      "\n",
      "First element type: <class 'str'>\n",
      "Second element type: <class 'str'>\n",
      "\n",
      "First row content:\n",
      "[{\"adm1_code\":431,\"adm1_name\":\"Catamarca\"},{\"adm1_code\":434,\"adm1_name\":\"Cordoba\"},{\"adm1_code\":438,\"adm1_name\":\"Jujuy\"},{\"adm1_code\":440,\"adm1_name\":\"La Rioja\"},{\"adm1_code\":445,\"adm1_name\":\"Salta\"},{\"adm1_code\":450,\"adm1_name\":\"Santiago Del Estero\"},{\"adm1_code\":452,\"adm1_name\":\"Tucuman\"}]\n",
      "\n",
      "Second row content:\n",
      "[{\"adm1_code\":430,\"adm1_name\":\"Buenos Aires D.f.\"},{\"adm1_code\":434,\"adm1_name\":\"Cordoba\"},{\"adm1_code\":439,\"adm1_name\":\"La Pampa\"},{\"adm2_code\":4386,\"adm2_name\":\"Avellaneda\"},{\"adm2_code\":4395,\"adm2_name\":\"Berisso\"},{\"adm2_code\":4445,\"adm2_name\":\"Lanus\"},{\"adm2_code\":4477,\"adm2_name\":\"Quilmes\"},{\"adm2_code\":82738,\"adm2_name\":\"San Miguel\"},{\"adm2_code\":190525,\"adm2_name\":\"San  Fernando\"},{\"adm2_code\":4631,\"adm2_name\":\"Parana\"},{\"adm2_code\":4836,\"adm2_name\":\"Rosario\"}]\n",
      "\n",
      "It's a string - might need JSON parsing\n",
      "Successfully parsed as JSON: <class 'list'>\n"
     ]
    }
   ],
   "source": [
    "# Check the data type of the column\n",
    "print(\"Column dtype:\", emdat[\"Admin Units\"].dtype)\n",
    "print(\"Column type:\", type(emdat[\"Admin Units\"]))\n",
    "\n",
    "# Check the type of individual elements\n",
    "print(\"\\nFirst element type:\", type(emdat[\"Admin Units\"].iloc[0]))\n",
    "print(\"Second element type:\", type(emdat[\"Admin Units\"].iloc[1]))\n",
    "\n",
    "# Look at the actual content of a few rows\n",
    "print(\"\\nFirst row content:\")\n",
    "print(emdat[\"Admin Units\"].iloc[0])\n",
    "print(\"\\nSecond row content:\")\n",
    "print(emdat[\"Admin Units\"].iloc[1])\n",
    "\n",
    "# Check if it's a string that needs parsing\n",
    "if isinstance(emdat[\"Admin Units\"].iloc[0], str):\n",
    "    print(\"\\nIt's a string - might need JSON parsing\")\n",
    "    import json\n",
    "\n",
    "    try:\n",
    "        parsed = json.loads(emdat[\"Admin Units\"].iloc[0])\n",
    "        print(\"Successfully parsed as JSON:\", type(parsed))\n",
    "    except:\n",
    "        print(\"Not valid JSON\")\n",
    "elif isinstance(emdat[\"Admin Units\"].iloc[0], list):\n",
    "    print(\"\\nIt's already a list\")\n",
    "    print(\"List element types:\", [type(item) for item in emdat[\"Admin Units\"].iloc[0]])"
   ]
  },
  {
   "cell_type": "code",
   "execution_count": 5,
   "metadata": {},
   "outputs": [
    {
     "name": "stdout",
     "output_type": "stream",
     "text": [
      "=== EXTRACTION RESULTS ===\n",
      "Total rows processed: 43\n",
      "Rows with adm1 names: 27\n",
      "Rows with adm2 names: 17\n",
      "\n",
      "=== SAMPLE RESULTS ===\n",
      "Row 0:\n",
      "  adm1_names: ['Catamarca', 'Cordoba', 'Jujuy', 'La Rioja', 'Salta', 'Santiago Del Estero', 'Tucuman']\n",
      "  adm2_names: []\n",
      "\n",
      "Row 1:\n",
      "  adm1_names: ['Buenos Aires D.f.', 'Cordoba', 'La Pampa']\n",
      "  adm2_names: ['Avellaneda', 'Berisso', 'Lanus', 'Quilmes', 'San Miguel', 'San  Fernando', 'Parana', 'Rosario']\n",
      "\n",
      "Row 2:\n",
      "  adm1_names: ['Buenos Aires', 'Cordoba', 'La Pampa', 'Santa Fe']\n",
      "  adm2_names: []\n",
      "\n",
      "Row 3:\n",
      "  adm1_names: []\n",
      "  adm2_names: ['Iriondo']\n",
      "\n",
      "Row 4:\n",
      "  adm1_names: ['Buenos Aires']\n",
      "  adm2_names: []\n",
      "\n"
     ]
    }
   ],
   "source": [
    "import json\n",
    "import pandas as pd\n",
    "\n",
    "\n",
    "def extract_admin_names(admin_units_str):\n",
    "    \"\"\"\n",
    "    Extract adm1 and adm2 names from a JSON string of admin units.\n",
    "    Returns (adm1_names, adm2_names) as lists.\n",
    "    \"\"\"\n",
    "    try:\n",
    "        parsed = json.loads(admin_units_str)\n",
    "        adm1_names = []\n",
    "        adm2_names = []\n",
    "\n",
    "        for unit in parsed:\n",
    "            if \"adm1_name\" in unit:\n",
    "                adm1_names.append(unit[\"adm1_name\"])\n",
    "            if \"adm2_name\" in unit:\n",
    "                adm2_names.append(unit[\"adm2_name\"])\n",
    "\n",
    "        return adm1_names, adm2_names\n",
    "    except:\n",
    "        # Return empty lists if parsing fails\n",
    "        return [], []\n",
    "\n",
    "\n",
    "# Apply the extraction function to create new columns\n",
    "emdat[[\"adm1_names\", \"adm2_names\"]] = emdat[\"Admin Units\"].apply(\n",
    "    lambda x: pd.Series(extract_admin_names(x))\n",
    ")\n",
    "\n",
    "# Display the results\n",
    "print(\"=== EXTRACTION RESULTS ===\")\n",
    "print(f\"Total rows processed: {len(emdat)}\")\n",
    "print(f\"Rows with adm1 names: {sum(emdat['adm1_names'].apply(len) > 0)}\")\n",
    "print(f\"Rows with adm2 names: {sum(emdat['adm2_names'].apply(len) > 0)}\")\n",
    "\n",
    "# Show a few examples\n",
    "print(\"\\n=== SAMPLE RESULTS ===\")\n",
    "for i in range(min(5, len(emdat))):\n",
    "    print(f\"Row {i}:\")\n",
    "    print(f\"  adm1_names: {emdat['adm1_names'].iloc[i]}\")\n",
    "    print(f\"  adm2_names: {emdat['adm2_names'].iloc[i]}\")\n",
    "    print()"
   ]
  },
  {
   "cell_type": "code",
   "execution_count": 6,
   "metadata": {},
   "outputs": [
    {
     "name": "stdout",
     "output_type": "stream",
     "text": [
      "=== TESTING ROW 1 ===\n",
      "adm1_names: ['Buenos Aires D.f.', 'Cordoba', 'La Pampa']\n",
      "adm2_names: ['Avellaneda', 'Berisso', 'Lanus', 'Quilmes', 'San Miguel', 'San  Fernando', 'Parana', 'Rosario']\n",
      "Filtered by 8 adm2 names: ['Avellaneda', 'Berisso', 'Lanus', 'Quilmes', 'San Miguel', 'San  Fernando', 'Parana', 'Rosario']\n",
      "Bounding box coordinates: {'min_lat': -39.92531, 'max_lat': -27.468575, 'min_lon': -67.8722, 'max_lon': -56.9436}\n",
      "Bounding box area: 136.134674\n",
      "\n",
      "Bounding box geometry: POLYGON ((-56.9436 -39.92531, -56.9436 -27.468575, -67.8722 -27.468575, -67.8722 -39.92531, -56.9436 -39.92531))\n",
      "Min/Max coordinates: (-67.8722, -39.92531, -56.9436, -27.468575)\n"
     ]
    }
   ],
   "source": [
    "from shapely.geometry import box\n",
    "from utils.pygeoboundaries.main import get_area_of_interest_by_names\n",
    "\n",
    "\n",
    "def get_flood_bounding_box(emdat_row, country_iso3):\n",
    "    \"\"\"\n",
    "    Get bounding box for a flood event based on admin unit names.\n",
    "\n",
    "    Args:\n",
    "        emdat_row: Single row from emdat dataframe with adm1_names and adm2_names columns\n",
    "        country_iso3: ISO3 country code for filtering\n",
    "\n",
    "    Returns:\n",
    "        bounding_box: shapely geometry representing the bounding box\n",
    "        bbox_dict: dictionary with bounding box coordinates\n",
    "    \"\"\"\n",
    "\n",
    "    # Check if we have adm2 names (prefer adm2 over adm1 for more precision)\n",
    "    if len(emdat_row[\"adm2_names\"]) > 0:\n",
    "        adm2_names = emdat_row[\"adm2_names\"]\n",
    "        print(f\"Filtered by {len(adm2_names)} adm2 names: {adm2_names}\")\n",
    "\n",
    "        # Get bounding box using geoBoundaries\n",
    "        bbox_dict = get_area_of_interest_by_names(\n",
    "            unit_names=adm2_names, adm_level=\"ADM2\", country_iso3=country_iso3\n",
    "        )\n",
    "\n",
    "    elif len(emdat_row[\"adm1_names\"]) > 0:\n",
    "        adm1_names = emdat_row[\"adm1_names\"]\n",
    "        print(f\"Filtered by {len(adm1_names)} adm1 names: {adm1_names}\")\n",
    "\n",
    "        # Get bounding box using geoBoundaries\n",
    "        bbox_dict = get_area_of_interest_by_names(\n",
    "            unit_names=adm1_names, adm_level=\"ADM1\", country_iso3=country_iso3\n",
    "        )\n",
    "\n",
    "    else:\n",
    "        print(\"No admin names found!\")\n",
    "        return None, None\n",
    "\n",
    "    if bbox_dict is None:\n",
    "        print(\"No matching administrative units found!\")\n",
    "        return None, None\n",
    "\n",
    "    # Convert dictionary to shapely geometry\n",
    "    bbox_geometry = box(\n",
    "        bbox_dict[\"min_lon\"],\n",
    "        bbox_dict[\"min_lat\"],\n",
    "        bbox_dict[\"max_lon\"],\n",
    "        bbox_dict[\"max_lat\"],\n",
    "    )\n",
    "\n",
    "    print(f\"Bounding box coordinates: {bbox_dict}\")\n",
    "    print(f\"Bounding box area: {bbox_geometry.area:.6f}\")\n",
    "\n",
    "    return bbox_geometry, bbox_dict\n",
    "\n",
    "\n",
    "# Example usage for a single row\n",
    "# Assuming you have the country ISO3 code (e.g., 'ARG' for Argentina)\n",
    "country_iso3 = \"ARG\"  # You'll need to get this from your emdat data\n",
    "\n",
    "# Test with row 1 (which has both adm1 and adm2 names)\n",
    "test_row = emdat.iloc[1]\n",
    "print(\"=== TESTING ROW 1 ===\")\n",
    "print(f\"adm1_names: {test_row['adm1_names']}\")\n",
    "print(f\"adm2_names: {test_row['adm2_names']}\")\n",
    "\n",
    "bbox, bbox_dict = get_flood_bounding_box(test_row, country_iso3)\n",
    "\n",
    "if bbox is not None:\n",
    "    print(f\"\\nBounding box geometry: {bbox}\")\n",
    "\n",
    "    # You can also get the coordinates for satellite imagery search\n",
    "    bounds = bbox.bounds\n",
    "    print(f\"Min/Max coordinates: {bounds}\")"
   ]
  },
  {
   "cell_type": "code",
   "execution_count": 7,
   "metadata": {},
   "outputs": [
    {
     "name": "stdout",
     "output_type": "stream",
     "text": [
      "=== DATE PROCESSING RESULTS ===\n",
      "Total rows: 43\n",
      "Rows with valid end_date: 41\n",
      "Rows with valid datetime_range: 41\n",
      "\n",
      "=== SAMPLE RESULTS ===\n",
      "   End Year  End Month  End Day    end_date         datetime_range\n",
      "0      2000          3     17.0  2000-03-17  2000-03-17/2000-03-19\n",
      "1      2000          5     15.0  2000-05-15  2000-05-15/2000-05-17\n",
      "2      2000         11     16.0  2000-11-16  2000-11-16/2000-11-18\n",
      "3      2000         11     22.0  2000-11-22  2000-11-22/2000-11-24\n",
      "4      2001          3     21.0  2001-03-21  2001-03-21/2001-03-23\n",
      "5      2001          7      NaN        None                   None\n",
      "6      2001         12      1.0  2001-12-01  2001-12-01/2001-12-03\n",
      "7      2002         11      2.0  2002-11-02  2002-11-02/2002-11-04\n",
      "8      2003          2     10.0  2003-02-10  2003-02-10/2003-02-12\n",
      "9      2003          5     10.0  2003-05-10  2003-05-10/2003-05-12\n",
      "\n",
      "Example datetime range for row 1: 2000-05-15/2000-05-17\n",
      "This represents: 2000-05-15 to 2000-05-17\n"
     ]
    }
   ],
   "source": [
    "import pandas as pd\n",
    "from datetime import datetime, timedelta\n",
    "\n",
    "\n",
    "# Create end_date column from End Year, End Month, End Day\n",
    "def create_end_date(row):\n",
    "    \"\"\"\n",
    "    Create end_date in YYYY-MM-DD format from End Year, End Month, End Day columns.\n",
    "    Handles missing values by returning None.\n",
    "    \"\"\"\n",
    "    try:\n",
    "        year = row[\"End Year\"]\n",
    "        month = row[\"End Month\"]\n",
    "        day = row[\"End Day\"]\n",
    "\n",
    "        # Check if all values are present and valid\n",
    "        if pd.notna(year) and pd.notna(month) and pd.notna(day):\n",
    "            # Convert to integers and create date\n",
    "            year = int(year)\n",
    "            month = int(month)\n",
    "            day = int(day)\n",
    "\n",
    "            # Validate date\n",
    "            date_obj = datetime(year, month, day)\n",
    "            return date_obj.strftime(\"%Y-%m-%d\")\n",
    "        else:\n",
    "            return None\n",
    "    except (ValueError, TypeError):\n",
    "        return None\n",
    "\n",
    "\n",
    "# Apply the function to create end_date column\n",
    "emdat[\"end_date\"] = emdat.apply(create_end_date, axis=1)\n",
    "\n",
    "\n",
    "# Create datetime range for satellite imagery search\n",
    "def create_datetime_range(end_date_str):\n",
    "    \"\"\"\n",
    "    Create datetime range starting from end_date and ending 2 days after.\n",
    "    Format: \"YYYY-MM-DD/YYYY-MM-DD\"\n",
    "    \"\"\"\n",
    "    if end_date_str is None:\n",
    "        return None\n",
    "\n",
    "    try:\n",
    "        end_date = datetime.strptime(end_date_str, \"%Y-%m-%d\")\n",
    "        start_date = end_date\n",
    "        end_date_plus_2 = end_date + timedelta(days=2)\n",
    "\n",
    "        return (\n",
    "            f\"{start_date.strftime('%Y-%m-%d')}/{end_date_plus_2.strftime('%Y-%m-%d')}\"\n",
    "        )\n",
    "    except ValueError:\n",
    "        return None\n",
    "\n",
    "\n",
    "# Create datetime_range column\n",
    "emdat[\"datetime_range\"] = emdat[\"end_date\"].apply(create_datetime_range)\n",
    "\n",
    "# Display results\n",
    "print(\"=== DATE PROCESSING RESULTS ===\")\n",
    "print(f\"Total rows: {len(emdat)}\")\n",
    "print(f\"Rows with valid end_date: {emdat['end_date'].notna().sum()}\")\n",
    "print(f\"Rows with valid datetime_range: {emdat['datetime_range'].notna().sum()}\")\n",
    "\n",
    "# Show sample results\n",
    "print(\"\\n=== SAMPLE RESULTS ===\")\n",
    "sample_cols = [\"End Year\", \"End Month\", \"End Day\", \"end_date\", \"datetime_range\"]\n",
    "print(emdat[sample_cols].head(10))\n",
    "\n",
    "# Example usage for a specific row\n",
    "test_row = emdat.iloc[1]\n",
    "if test_row[\"datetime_range\"] is not None:\n",
    "    print(f\"\\nExample datetime range for row 1: {test_row['datetime_range']}\")\n",
    "    print(\n",
    "        f\"This represents: {test_row['datetime_range'].split('/')[0]} to {test_row['datetime_range'].split('/')[1]}\"\n",
    "    )"
   ]
  },
  {
   "cell_type": "markdown",
   "metadata": {},
   "source": [
    "## STAC query\n",
    "Filter for Sentinel 1 and/or 2 images that are 1) within two days of the flood event, 2) below 20% cloud cover, 3) within the bounding box (duh), 4) ???."
   ]
  },
  {
   "cell_type": "code",
   "execution_count": 8,
   "metadata": {},
   "outputs": [
    {
     "data": {
      "text/html": [
       "<script type=\"esms-options\">{\"shimMode\": true}</script><style>*[data-root-id],\n",
       "*[data-root-id] > * {\n",
       "  box-sizing: border-box;\n",
       "  font-family: var(--jp-ui-font-family);\n",
       "  font-size: var(--jp-ui-font-size1);\n",
       "  color: var(--vscode-editor-foreground, var(--jp-ui-font-color1));\n",
       "}\n",
       "\n",
       "/* Override VSCode background color */\n",
       ".cell-output-ipywidget-background:has(\n",
       "    > .cell-output-ipywidget-background > .lm-Widget > *[data-root-id]\n",
       "  ),\n",
       ".cell-output-ipywidget-background:has(> .lm-Widget > *[data-root-id]) {\n",
       "  background-color: transparent !important;\n",
       "}\n",
       "</style>"
      ]
     },
     "metadata": {},
     "output_type": "display_data"
    },
    {
     "data": {
      "application/javascript": "(function(root) {\n  function now() {\n    return new Date();\n  }\n\n  const force = true;\n  const py_version = '3.7.3'.replace('rc', '-rc.').replace('.dev', '-dev.');\n  const reloading = false;\n  const Bokeh = root.Bokeh;\n\n  // Set a timeout for this load but only if we are not already initializing\n  if (typeof (root._bokeh_timeout) === \"undefined\" || (force || !root._bokeh_is_initializing)) {\n    root._bokeh_timeout = Date.now() + 5000;\n    root._bokeh_failed_load = false;\n  }\n\n  function run_callbacks() {\n    try {\n      root._bokeh_onload_callbacks.forEach(function(callback) {\n        if (callback != null)\n          callback();\n      });\n    } finally {\n      delete root._bokeh_onload_callbacks;\n    }\n    console.debug(\"Bokeh: all callbacks have finished\");\n  }\n\n  function load_libs(css_urls, js_urls, js_modules, js_exports, callback) {\n    if (css_urls == null) css_urls = [];\n    if (js_urls == null) js_urls = [];\n    if (js_modules == null) js_modules = [];\n    if (js_exports == null) js_exports = {};\n\n    root._bokeh_onload_callbacks.push(callback);\n\n    if (root._bokeh_is_loading > 0) {\n      // Don't load bokeh if it is still initializing\n      console.debug(\"Bokeh: BokehJS is being loaded, scheduling callback at\", now());\n      return null;\n    } else if (js_urls.length === 0 && js_modules.length === 0 && Object.keys(js_exports).length === 0) {\n      // There is nothing to load\n      run_callbacks();\n      return null;\n    }\n\n    function on_load() {\n      root._bokeh_is_loading--;\n      if (root._bokeh_is_loading === 0) {\n        console.debug(\"Bokeh: all BokehJS libraries/stylesheets loaded\");\n        run_callbacks()\n      }\n    }\n    window._bokeh_on_load = on_load\n\n    function on_error(e) {\n      const src_el = e.srcElement\n      console.error(\"failed to load \" + (src_el.href || src_el.src));\n    }\n\n    const skip = [];\n    if (window.requirejs) {\n      window.requirejs.config({'packages': {}, 'paths': {}, 'shim': {}});\n      root._bokeh_is_loading = css_urls.length + 0;\n    } else {\n      root._bokeh_is_loading = css_urls.length + js_urls.length + js_modules.length + Object.keys(js_exports).length;\n    }\n\n    const existing_stylesheets = []\n    const links = document.getElementsByTagName('link')\n    for (let i = 0; i < links.length; i++) {\n      const link = links[i]\n      if (link.href != null) {\n        existing_stylesheets.push(link.href)\n      }\n    }\n    for (let i = 0; i < css_urls.length; i++) {\n      const url = css_urls[i];\n      const escaped = encodeURI(url)\n      if (existing_stylesheets.indexOf(escaped) !== -1) {\n        on_load()\n        continue;\n      }\n      const element = document.createElement(\"link\");\n      element.onload = on_load;\n      element.onerror = on_error;\n      element.rel = \"stylesheet\";\n      element.type = \"text/css\";\n      element.href = url;\n      console.debug(\"Bokeh: injecting link tag for BokehJS stylesheet: \", url);\n      document.body.appendChild(element);\n    }    var existing_scripts = []\n    const scripts = document.getElementsByTagName('script')\n    for (let i = 0; i < scripts.length; i++) {\n      var script = scripts[i]\n      if (script.src != null) {\n        existing_scripts.push(script.src)\n      }\n    }\n    for (let i = 0; i < js_urls.length; i++) {\n      const url = js_urls[i];\n      const escaped = encodeURI(url)\n      if (skip.indexOf(escaped) !== -1 || existing_scripts.indexOf(escaped) !== -1) {\n        if (!window.requirejs) {\n          on_load();\n        }\n        continue;\n      }\n      const element = document.createElement('script');\n      element.onload = on_load;\n      element.onerror = on_error;\n      element.async = false;\n      element.src = url;\n      console.debug(\"Bokeh: injecting script tag for BokehJS library: \", url);\n      document.head.appendChild(element);\n    }\n    for (let i = 0; i < js_modules.length; i++) {\n      const url = js_modules[i];\n      const escaped = encodeURI(url)\n      if (skip.indexOf(escaped) !== -1 || existing_scripts.indexOf(escaped) !== -1) {\n        if (!window.requirejs) {\n          on_load();\n        }\n        continue;\n      }\n      var element = document.createElement('script');\n      element.onload = on_load;\n      element.onerror = on_error;\n      element.async = false;\n      element.src = url;\n      element.type = \"module\";\n      console.debug(\"Bokeh: injecting script tag for BokehJS library: \", url);\n      document.head.appendChild(element);\n    }\n    for (const name in js_exports) {\n      const url = js_exports[name];\n      const escaped = encodeURI(url)\n      if (skip.indexOf(escaped) >= 0 || root[name] != null) {\n        if (!window.requirejs) {\n          on_load();\n        }\n        continue;\n      }\n      var element = document.createElement('script');\n      element.onerror = on_error;\n      element.async = false;\n      element.type = \"module\";\n      console.debug(\"Bokeh: injecting script tag for BokehJS library: \", url);\n      element.textContent = `\n      import ${name} from \"${url}\"\n      window.${name} = ${name}\n      window._bokeh_on_load()\n      `\n      document.head.appendChild(element);\n    }\n    if (!js_urls.length && !js_modules.length) {\n      on_load()\n    }\n  };\n\n  function inject_raw_css(css) {\n    const element = document.createElement(\"style\");\n    element.appendChild(document.createTextNode(css));\n    document.body.appendChild(element);\n  }\n\n  const js_urls = [\"https://cdn.holoviz.org/panel/1.7.2/dist/bundled/reactiveesm/es-module-shims@^1.10.0/dist/es-module-shims.min.js\", \"https://cdn.bokeh.org/bokeh/release/bokeh-3.7.3.min.js\", \"https://cdn.bokeh.org/bokeh/release/bokeh-gl-3.7.3.min.js\", \"https://cdn.bokeh.org/bokeh/release/bokeh-widgets-3.7.3.min.js\", \"https://cdn.bokeh.org/bokeh/release/bokeh-tables-3.7.3.min.js\", \"https://cdn.holoviz.org/panel/1.7.2/dist/panel.min.js\"];\n  const js_modules = [];\n  const js_exports = {};\n  const css_urls = [];\n  const inline_js = [    function(Bokeh) {\n      Bokeh.set_log_level(\"info\");\n    },\nfunction(Bokeh) {} // ensure no trailing comma for IE\n  ];\n\n  function run_inline_js() {\n    if ((root.Bokeh !== undefined) || (force === true)) {\n      for (let i = 0; i < inline_js.length; i++) {\n        try {\n          inline_js[i].call(root, root.Bokeh);\n        } catch(e) {\n          if (!reloading) {\n            throw e;\n          }\n        }\n      }\n      // Cache old bokeh versions\n      if (Bokeh != undefined && !reloading) {\n        var NewBokeh = root.Bokeh;\n        if (Bokeh.versions === undefined) {\n          Bokeh.versions = new Map();\n        }\n        if (NewBokeh.version !== Bokeh.version) {\n          Bokeh.versions.set(NewBokeh.version, NewBokeh)\n        }\n        root.Bokeh = Bokeh;\n      }\n    } else if (Date.now() < root._bokeh_timeout) {\n      setTimeout(run_inline_js, 100);\n    } else if (!root._bokeh_failed_load) {\n      console.log(\"Bokeh: BokehJS failed to load within specified timeout.\");\n      root._bokeh_failed_load = true;\n    }\n    root._bokeh_is_initializing = false\n  }\n\n  function load_or_wait() {\n    // Implement a backoff loop that tries to ensure we do not load multiple\n    // versions of Bokeh and its dependencies at the same time.\n    // In recent versions we use the root._bokeh_is_initializing flag\n    // to determine whether there is an ongoing attempt to initialize\n    // bokeh, however for backward compatibility we also try to ensure\n    // that we do not start loading a newer (Panel>=1.0 and Bokeh>3) version\n    // before older versions are fully initialized.\n    if (root._bokeh_is_initializing && Date.now() > root._bokeh_timeout) {\n      // If the timeout and bokeh was not successfully loaded we reset\n      // everything and try loading again\n      root._bokeh_timeout = Date.now() + 5000;\n      root._bokeh_is_initializing = false;\n      root._bokeh_onload_callbacks = undefined;\n      root._bokeh_is_loading = 0\n      console.log(\"Bokeh: BokehJS was loaded multiple times but one version failed to initialize.\");\n      load_or_wait();\n    } else if (root._bokeh_is_initializing || (typeof root._bokeh_is_initializing === \"undefined\" && root._bokeh_onload_callbacks !== undefined)) {\n      setTimeout(load_or_wait, 100);\n    } else {\n      root._bokeh_is_initializing = true\n      root._bokeh_onload_callbacks = []\n      const bokeh_loaded = root.Bokeh != null && (root.Bokeh.version === py_version || (root.Bokeh.versions !== undefined && root.Bokeh.versions.has(py_version)));\n      if (!reloading && !bokeh_loaded) {\n        if (root.Bokeh) {\n          root.Bokeh = undefined;\n        }\n        console.debug(\"Bokeh: BokehJS not loaded, scheduling load and callback at\", now());\n      }\n      load_libs(css_urls, js_urls, js_modules, js_exports, function() {\n        console.debug(\"Bokeh: BokehJS plotting callback run at\", now());\n        run_inline_js();\n      });\n    }\n  }\n  // Give older versions of the autoload script a head-start to ensure\n  // they initialize before we start loading newer version.\n  setTimeout(load_or_wait, 100)\n}(window));",
      "application/vnd.holoviews_load.v0+json": ""
     },
     "metadata": {},
     "output_type": "display_data"
    },
    {
     "data": {
      "application/javascript": "\nif ((window.PyViz === undefined) || (window.PyViz instanceof HTMLElement)) {\n  window.PyViz = {comms: {}, comm_status:{}, kernels:{}, receivers: {}, plot_index: []}\n}\n\n\n    function JupyterCommManager() {\n    }\n\n    JupyterCommManager.prototype.register_target = function(plot_id, comm_id, msg_handler) {\n      if (window.comm_manager || ((window.Jupyter !== undefined) && (Jupyter.notebook.kernel != null))) {\n        var comm_manager = window.comm_manager || Jupyter.notebook.kernel.comm_manager;\n        comm_manager.register_target(comm_id, function(comm) {\n          comm.on_msg(msg_handler);\n        });\n      } else if ((plot_id in window.PyViz.kernels) && (window.PyViz.kernels[plot_id])) {\n        window.PyViz.kernels[plot_id].registerCommTarget(comm_id, function(comm) {\n          comm.onMsg = msg_handler;\n        });\n      } else if (typeof google != 'undefined' && google.colab.kernel != null) {\n        google.colab.kernel.comms.registerTarget(comm_id, (comm) => {\n          var messages = comm.messages[Symbol.asyncIterator]();\n          function processIteratorResult(result) {\n            var message = result.value;\n            var content = {data: message.data, comm_id};\n            var buffers = []\n            for (var buffer of message.buffers || []) {\n              buffers.push(new DataView(buffer))\n            }\n            var metadata = message.metadata || {};\n            var msg = {content, buffers, metadata}\n            msg_handler(msg);\n            return messages.next().then(processIteratorResult);\n          }\n          return messages.next().then(processIteratorResult);\n        })\n      }\n    }\n\n    JupyterCommManager.prototype.get_client_comm = function(plot_id, comm_id, msg_handler) {\n      if (comm_id in window.PyViz.comms) {\n        return window.PyViz.comms[comm_id];\n      } else if (window.comm_manager || ((window.Jupyter !== undefined) && (Jupyter.notebook.kernel != null))) {\n        var comm_manager = window.comm_manager || Jupyter.notebook.kernel.comm_manager;\n        var comm = comm_manager.new_comm(comm_id, {}, {}, {}, comm_id);\n        if (msg_handler) {\n          comm.on_msg(msg_handler);\n        }\n      } else if ((plot_id in window.PyViz.kernels) && (window.PyViz.kernels[plot_id])) {\n        var comm = window.PyViz.kernels[plot_id].connectToComm(comm_id);\n        let retries = 0;\n        const open = () => {\n          if (comm.active) {\n            comm.open();\n          } else if (retries > 3) {\n            console.warn('Comm target never activated')\n          } else {\n            retries += 1\n            setTimeout(open, 500)\n          }\n        }\n        if (comm.active) {\n          comm.open();\n        } else {\n          setTimeout(open, 500)\n        }\n        if (msg_handler) {\n          comm.onMsg = msg_handler;\n        }\n      } else if (typeof google != 'undefined' && google.colab.kernel != null) {\n        var comm_promise = google.colab.kernel.comms.open(comm_id)\n        comm_promise.then((comm) => {\n          window.PyViz.comms[comm_id] = comm;\n          if (msg_handler) {\n            var messages = comm.messages[Symbol.asyncIterator]();\n            function processIteratorResult(result) {\n              var message = result.value;\n              var content = {data: message.data};\n              var metadata = message.metadata || {comm_id};\n              var msg = {content, metadata}\n              msg_handler(msg);\n              return messages.next().then(processIteratorResult);\n            }\n            return messages.next().then(processIteratorResult);\n          }\n        })\n        var sendClosure = (data, metadata, buffers, disposeOnDone) => {\n          return comm_promise.then((comm) => {\n            comm.send(data, metadata, buffers, disposeOnDone);\n          });\n        };\n        var comm = {\n          send: sendClosure\n        };\n      }\n      window.PyViz.comms[comm_id] = comm;\n      return comm;\n    }\n    window.PyViz.comm_manager = new JupyterCommManager();\n    \n\n\nvar JS_MIME_TYPE = 'application/javascript';\nvar HTML_MIME_TYPE = 'text/html';\nvar EXEC_MIME_TYPE = 'application/vnd.holoviews_exec.v0+json';\nvar CLASS_NAME = 'output';\n\n/**\n * Render data to the DOM node\n */\nfunction render(props, node) {\n  var div = document.createElement(\"div\");\n  var script = document.createElement(\"script\");\n  node.appendChild(div);\n  node.appendChild(script);\n}\n\n/**\n * Handle when a new output is added\n */\nfunction handle_add_output(event, handle) {\n  var output_area = handle.output_area;\n  var output = handle.output;\n  if ((output.data == undefined) || (!output.data.hasOwnProperty(EXEC_MIME_TYPE))) {\n    return\n  }\n  var id = output.metadata[EXEC_MIME_TYPE][\"id\"];\n  var toinsert = output_area.element.find(\".\" + CLASS_NAME.split(' ')[0]);\n  if (id !== undefined) {\n    var nchildren = toinsert.length;\n    var html_node = toinsert[nchildren-1].children[0];\n    html_node.innerHTML = output.data[HTML_MIME_TYPE];\n    var scripts = [];\n    var nodelist = html_node.querySelectorAll(\"script\");\n    for (var i in nodelist) {\n      if (nodelist.hasOwnProperty(i)) {\n        scripts.push(nodelist[i])\n      }\n    }\n\n    scripts.forEach( function (oldScript) {\n      var newScript = document.createElement(\"script\");\n      var attrs = [];\n      var nodemap = oldScript.attributes;\n      for (var j in nodemap) {\n        if (nodemap.hasOwnProperty(j)) {\n          attrs.push(nodemap[j])\n        }\n      }\n      attrs.forEach(function(attr) { newScript.setAttribute(attr.name, attr.value) });\n      newScript.appendChild(document.createTextNode(oldScript.innerHTML));\n      oldScript.parentNode.replaceChild(newScript, oldScript);\n    });\n    if (JS_MIME_TYPE in output.data) {\n      toinsert[nchildren-1].children[1].textContent = output.data[JS_MIME_TYPE];\n    }\n    output_area._hv_plot_id = id;\n    if ((window.Bokeh !== undefined) && (id in Bokeh.index)) {\n      window.PyViz.plot_index[id] = Bokeh.index[id];\n    } else {\n      window.PyViz.plot_index[id] = null;\n    }\n  } else if (output.metadata[EXEC_MIME_TYPE][\"server_id\"] !== undefined) {\n    var bk_div = document.createElement(\"div\");\n    bk_div.innerHTML = output.data[HTML_MIME_TYPE];\n    var script_attrs = bk_div.children[0].attributes;\n    for (var i = 0; i < script_attrs.length; i++) {\n      toinsert[toinsert.length - 1].childNodes[1].setAttribute(script_attrs[i].name, script_attrs[i].value);\n    }\n    // store reference to server id on output_area\n    output_area._bokeh_server_id = output.metadata[EXEC_MIME_TYPE][\"server_id\"];\n  }\n}\n\n/**\n * Handle when an output is cleared or removed\n */\nfunction handle_clear_output(event, handle) {\n  var id = handle.cell.output_area._hv_plot_id;\n  var server_id = handle.cell.output_area._bokeh_server_id;\n  if (((id === undefined) || !(id in PyViz.plot_index)) && (server_id !== undefined)) { return; }\n  var comm = window.PyViz.comm_manager.get_client_comm(\"hv-extension-comm\", \"hv-extension-comm\", function () {});\n  if (server_id !== null) {\n    comm.send({event_type: 'server_delete', 'id': server_id});\n    return;\n  } else if (comm !== null) {\n    comm.send({event_type: 'delete', 'id': id});\n  }\n  delete PyViz.plot_index[id];\n  if ((window.Bokeh !== undefined) & (id in window.Bokeh.index)) {\n    var doc = window.Bokeh.index[id].model.document\n    doc.clear();\n    const i = window.Bokeh.documents.indexOf(doc);\n    if (i > -1) {\n      window.Bokeh.documents.splice(i, 1);\n    }\n  }\n}\n\n/**\n * Handle kernel restart event\n */\nfunction handle_kernel_cleanup(event, handle) {\n  delete PyViz.comms[\"hv-extension-comm\"];\n  window.PyViz.plot_index = {}\n}\n\n/**\n * Handle update_display_data messages\n */\nfunction handle_update_output(event, handle) {\n  handle_clear_output(event, {cell: {output_area: handle.output_area}})\n  handle_add_output(event, handle)\n}\n\nfunction register_renderer(events, OutputArea) {\n  function append_mime(data, metadata, element) {\n    // create a DOM node to render to\n    var toinsert = this.create_output_subarea(\n    metadata,\n    CLASS_NAME,\n    EXEC_MIME_TYPE\n    );\n    this.keyboard_manager.register_events(toinsert);\n    // Render to node\n    var props = {data: data, metadata: metadata[EXEC_MIME_TYPE]};\n    render(props, toinsert[0]);\n    element.append(toinsert);\n    return toinsert\n  }\n\n  events.on('output_added.OutputArea', handle_add_output);\n  events.on('output_updated.OutputArea', handle_update_output);\n  events.on('clear_output.CodeCell', handle_clear_output);\n  events.on('delete.Cell', handle_clear_output);\n  events.on('kernel_ready.Kernel', handle_kernel_cleanup);\n\n  OutputArea.prototype.register_mime_type(EXEC_MIME_TYPE, append_mime, {\n    safe: true,\n    index: 0\n  });\n}\n\nif (window.Jupyter !== undefined) {\n  try {\n    var events = require('base/js/events');\n    var OutputArea = require('notebook/js/outputarea').OutputArea;\n    if (OutputArea.prototype.mime_types().indexOf(EXEC_MIME_TYPE) == -1) {\n      register_renderer(events, OutputArea);\n    }\n  } catch(err) {\n  }\n}\n",
      "application/vnd.holoviews_load.v0+json": ""
     },
     "metadata": {},
     "output_type": "display_data"
    },
    {
     "data": {
      "application/vnd.holoviews_exec.v0+json": "",
      "text/html": [
       "<div id='0ca250b7-ed2a-4ede-b779-63d91f38bac1'>\n",
       "  <div id=\"a272e025-f24f-41e0-9d54-aaa56c8b42a9\" data-root-id=\"0ca250b7-ed2a-4ede-b779-63d91f38bac1\" style=\"display: contents;\"></div>\n",
       "</div>\n",
       "<script type=\"application/javascript\">(function(root) {\n",
       "  var docs_json = {\"2b18640c-aad7-4c80-84be-4b56d62b721f\":{\"version\":\"3.7.3\",\"title\":\"Bokeh Application\",\"roots\":[{\"type\":\"object\",\"name\":\"panel.models.browser.BrowserInfo\",\"id\":\"0ca250b7-ed2a-4ede-b779-63d91f38bac1\"},{\"type\":\"object\",\"name\":\"panel.models.comm_manager.CommManager\",\"id\":\"17fe0c9d-2073-486b-9f6d-08905538e96e\",\"attributes\":{\"plot_id\":\"0ca250b7-ed2a-4ede-b779-63d91f38bac1\",\"comm_id\":\"835f7f81fe1f4fe4aedbb35d29e6bc87\",\"client_comm_id\":\"0bbc955a9203483ca4d223cd89fa48b1\"}}],\"defs\":[{\"type\":\"model\",\"name\":\"ReactiveHTML1\"},{\"type\":\"model\",\"name\":\"FlexBox1\",\"properties\":[{\"name\":\"align_content\",\"kind\":\"Any\",\"default\":\"flex-start\"},{\"name\":\"align_items\",\"kind\":\"Any\",\"default\":\"flex-start\"},{\"name\":\"flex_direction\",\"kind\":\"Any\",\"default\":\"row\"},{\"name\":\"flex_wrap\",\"kind\":\"Any\",\"default\":\"wrap\"},{\"name\":\"gap\",\"kind\":\"Any\",\"default\":\"\"},{\"name\":\"justify_content\",\"kind\":\"Any\",\"default\":\"flex-start\"}]},{\"type\":\"model\",\"name\":\"FloatPanel1\",\"properties\":[{\"name\":\"config\",\"kind\":\"Any\",\"default\":{\"type\":\"map\"}},{\"name\":\"contained\",\"kind\":\"Any\",\"default\":true},{\"name\":\"position\",\"kind\":\"Any\",\"default\":\"right-top\"},{\"name\":\"offsetx\",\"kind\":\"Any\",\"default\":null},{\"name\":\"offsety\",\"kind\":\"Any\",\"default\":null},{\"name\":\"theme\",\"kind\":\"Any\",\"default\":\"primary\"},{\"name\":\"status\",\"kind\":\"Any\",\"default\":\"normalized\"}]},{\"type\":\"model\",\"name\":\"GridStack1\",\"properties\":[{\"name\":\"ncols\",\"kind\":\"Any\",\"default\":null},{\"name\":\"nrows\",\"kind\":\"Any\",\"default\":null},{\"name\":\"allow_resize\",\"kind\":\"Any\",\"default\":true},{\"name\":\"allow_drag\",\"kind\":\"Any\",\"default\":true},{\"name\":\"state\",\"kind\":\"Any\",\"default\":[]}]},{\"type\":\"model\",\"name\":\"drag1\",\"properties\":[{\"name\":\"slider_width\",\"kind\":\"Any\",\"default\":5},{\"name\":\"slider_color\",\"kind\":\"Any\",\"default\":\"black\"},{\"name\":\"value\",\"kind\":\"Any\",\"default\":50}]},{\"type\":\"model\",\"name\":\"click1\",\"properties\":[{\"name\":\"terminal_output\",\"kind\":\"Any\",\"default\":\"\"},{\"name\":\"debug_name\",\"kind\":\"Any\",\"default\":\"\"},{\"name\":\"clears\",\"kind\":\"Any\",\"default\":0}]},{\"type\":\"model\",\"name\":\"ReactiveESM1\",\"properties\":[{\"name\":\"esm_constants\",\"kind\":\"Any\",\"default\":{\"type\":\"map\"}}]},{\"type\":\"model\",\"name\":\"JSComponent1\",\"properties\":[{\"name\":\"esm_constants\",\"kind\":\"Any\",\"default\":{\"type\":\"map\"}}]},{\"type\":\"model\",\"name\":\"ReactComponent1\",\"properties\":[{\"name\":\"use_shadow_dom\",\"kind\":\"Any\",\"default\":true},{\"name\":\"esm_constants\",\"kind\":\"Any\",\"default\":{\"type\":\"map\"}}]},{\"type\":\"model\",\"name\":\"AnyWidgetComponent1\",\"properties\":[{\"name\":\"use_shadow_dom\",\"kind\":\"Any\",\"default\":true},{\"name\":\"esm_constants\",\"kind\":\"Any\",\"default\":{\"type\":\"map\"}}]},{\"type\":\"model\",\"name\":\"FastWrapper1\",\"properties\":[{\"name\":\"object\",\"kind\":\"Any\",\"default\":null},{\"name\":\"style\",\"kind\":\"Any\",\"default\":null}]},{\"type\":\"model\",\"name\":\"NotificationArea1\",\"properties\":[{\"name\":\"js_events\",\"kind\":\"Any\",\"default\":{\"type\":\"map\"}},{\"name\":\"max_notifications\",\"kind\":\"Any\",\"default\":5},{\"name\":\"notifications\",\"kind\":\"Any\",\"default\":[]},{\"name\":\"position\",\"kind\":\"Any\",\"default\":\"bottom-right\"},{\"name\":\"_clear\",\"kind\":\"Any\",\"default\":0},{\"name\":\"types\",\"kind\":\"Any\",\"default\":[{\"type\":\"map\",\"entries\":[[\"type\",\"warning\"],[\"background\",\"#ffc107\"],[\"icon\",{\"type\":\"map\",\"entries\":[[\"className\",\"fas fa-exclamation-triangle\"],[\"tagName\",\"i\"],[\"color\",\"white\"]]}]]},{\"type\":\"map\",\"entries\":[[\"type\",\"info\"],[\"background\",\"#007bff\"],[\"icon\",{\"type\":\"map\",\"entries\":[[\"className\",\"fas fa-info-circle\"],[\"tagName\",\"i\"],[\"color\",\"white\"]]}]]}]}]},{\"type\":\"model\",\"name\":\"Notification\",\"properties\":[{\"name\":\"background\",\"kind\":\"Any\",\"default\":null},{\"name\":\"duration\",\"kind\":\"Any\",\"default\":3000},{\"name\":\"icon\",\"kind\":\"Any\",\"default\":null},{\"name\":\"message\",\"kind\":\"Any\",\"default\":\"\"},{\"name\":\"notification_type\",\"kind\":\"Any\",\"default\":null},{\"name\":\"_rendered\",\"kind\":\"Any\",\"default\":false},{\"name\":\"_destroyed\",\"kind\":\"Any\",\"default\":false}]},{\"type\":\"model\",\"name\":\"TemplateActions1\",\"properties\":[{\"name\":\"open_modal\",\"kind\":\"Any\",\"default\":0},{\"name\":\"close_modal\",\"kind\":\"Any\",\"default\":0}]},{\"type\":\"model\",\"name\":\"BootstrapTemplateActions1\",\"properties\":[{\"name\":\"open_modal\",\"kind\":\"Any\",\"default\":0},{\"name\":\"close_modal\",\"kind\":\"Any\",\"default\":0}]},{\"type\":\"model\",\"name\":\"TemplateEditor1\",\"properties\":[{\"name\":\"layout\",\"kind\":\"Any\",\"default\":[]}]},{\"type\":\"model\",\"name\":\"MaterialTemplateActions1\",\"properties\":[{\"name\":\"open_modal\",\"kind\":\"Any\",\"default\":0},{\"name\":\"close_modal\",\"kind\":\"Any\",\"default\":0}]},{\"type\":\"model\",\"name\":\"request_value1\",\"properties\":[{\"name\":\"fill\",\"kind\":\"Any\",\"default\":\"none\"},{\"name\":\"_synced\",\"kind\":\"Any\",\"default\":null},{\"name\":\"_request_sync\",\"kind\":\"Any\",\"default\":0}]}]}};\n",
       "  var render_items = [{\"docid\":\"2b18640c-aad7-4c80-84be-4b56d62b721f\",\"roots\":{\"0ca250b7-ed2a-4ede-b779-63d91f38bac1\":\"a272e025-f24f-41e0-9d54-aaa56c8b42a9\"},\"root_ids\":[\"0ca250b7-ed2a-4ede-b779-63d91f38bac1\"]}];\n",
       "  var docs = Object.values(docs_json)\n",
       "  if (!docs) {\n",
       "    return\n",
       "  }\n",
       "  const py_version = docs[0].version.replace('rc', '-rc.').replace('.dev', '-dev.')\n",
       "  async function embed_document(root) {\n",
       "    var Bokeh = get_bokeh(root)\n",
       "    await Bokeh.embed.embed_items_notebook(docs_json, render_items);\n",
       "    for (const render_item of render_items) {\n",
       "      for (const root_id of render_item.root_ids) {\n",
       "\tconst id_el = document.getElementById(root_id)\n",
       "\tif (id_el.children.length && id_el.children[0].hasAttribute('data-root-id')) {\n",
       "\t  const root_el = id_el.children[0]\n",
       "\t  root_el.id = root_el.id + '-rendered'\n",
       "\t  for (const child of root_el.children) {\n",
       "            // Ensure JupyterLab does not capture keyboard shortcuts\n",
       "            // see: https://jupyterlab.readthedocs.io/en/4.1.x/extension/notebook.html#keyboard-interaction-model\n",
       "\t    child.setAttribute('data-lm-suppress-shortcuts', 'true')\n",
       "\t  }\n",
       "\t}\n",
       "      }\n",
       "    }\n",
       "  }\n",
       "  function get_bokeh(root) {\n",
       "    if (root.Bokeh === undefined) {\n",
       "      return null\n",
       "    } else if (root.Bokeh.version !== py_version) {\n",
       "      if (root.Bokeh.versions === undefined || !root.Bokeh.versions.has(py_version)) {\n",
       "\treturn null\n",
       "      }\n",
       "      return root.Bokeh.versions.get(py_version);\n",
       "    } else if (root.Bokeh.version === py_version) {\n",
       "      return root.Bokeh\n",
       "    }\n",
       "    return null\n",
       "  }\n",
       "  function is_loaded(root) {\n",
       "    var Bokeh = get_bokeh(root)\n",
       "    return (Bokeh != null && Bokeh.Panel !== undefined)\n",
       "  }\n",
       "  if (is_loaded(root)) {\n",
       "    embed_document(root);\n",
       "  } else {\n",
       "    var attempts = 0;\n",
       "    var timer = setInterval(function(root) {\n",
       "      if (is_loaded(root)) {\n",
       "        clearInterval(timer);\n",
       "        embed_document(root);\n",
       "      } else if (document.readyState == \"complete\") {\n",
       "        attempts++;\n",
       "        if (attempts > 200) {\n",
       "          clearInterval(timer);\n",
       "\t  var Bokeh = get_bokeh(root)\n",
       "\t  if (Bokeh == null || Bokeh.Panel == null) {\n",
       "            console.warn(\"Panel: ERROR: Unable to run Panel code because Bokeh or Panel library is missing\");\n",
       "\t  } else {\n",
       "\t    console.warn(\"Panel: WARNING: Attempting to render but not all required libraries could be resolved.\")\n",
       "\t    embed_document(root)\n",
       "\t  }\n",
       "        }\n",
       "      }\n",
       "    }, 25, root)\n",
       "  }\n",
       "})(window);</script>"
      ]
     },
     "metadata": {
      "application/vnd.holoviews_exec.v0+json": {
       "id": "0ca250b7-ed2a-4ede-b779-63d91f38bac1"
      }
     },
     "output_type": "display_data"
    }
   ],
   "source": [
    "# Import required libraries\n",
    "import pandas as pd\n",
    "import planetary_computer\n",
    "import pystac_client\n",
    "import panel as pn\n",
    "\n",
    "# Enable Panel for interactive visualizations\n",
    "pn.extension()"
   ]
  },
  {
   "cell_type": "code",
   "execution_count": 9,
   "metadata": {},
   "outputs": [],
   "source": [
    "# Step 1: Connect to Planetary Computer Catalog\n",
    "catalog = pystac_client.Client.open(\n",
    "    \"https://planetarycomputer.microsoft.com/api/stac/v1\",\n",
    "    modifier=planetary_computer.sign_inplace,  # Automatically signs requests\n",
    ")"
   ]
  },
  {
   "cell_type": "code",
   "execution_count": 12,
   "metadata": {},
   "outputs": [
    {
     "name": "stdout",
     "output_type": "stream",
     "text": [
      "=== SEARCHING SENTINEL-1 RTC FOR ALL EMDAT ROWS ===\n"
     ]
    },
    {
     "name": "stderr",
     "output_type": "stream",
     "text": [
      "Processing rows:   0%|          | 0/43 [00:00<?, ?it/s]"
     ]
    },
    {
     "name": "stdout",
     "output_type": "stream",
     "text": [
      "Filtered by 7 adm1 names: ['Catamarca', 'Cordoba', 'Jujuy', 'La Rioja', 'Salta', 'Santiago Del Estero', 'Tucuman']\n",
      "Bounding box coordinates: {'min_lat': -30.120678, 'max_lat': -21.805624, 'min_lon': -69.114097, 'max_lon': -61.627238}\n",
      "Bounding box area: 62.253637\n"
     ]
    },
    {
     "name": "stderr",
     "output_type": "stream",
     "text": [
      "Processing rows:   2%|▏         | 1/43 [00:00<00:13,  3.14it/s]"
     ]
    },
    {
     "name": "stdout",
     "output_type": "stream",
     "text": [
      "Filtered by 8 adm2 names: ['Avellaneda', 'Berisso', 'Lanus', 'Quilmes', 'San Miguel', 'San  Fernando', 'Parana', 'Rosario']\n",
      "Bounding box coordinates: {'min_lat': -39.92531, 'max_lat': -27.468575, 'min_lon': -67.8722, 'max_lon': -56.9436}\n",
      "Bounding box area: 136.134674\n"
     ]
    },
    {
     "name": "stderr",
     "output_type": "stream",
     "text": [
      "Processing rows:   5%|▍         | 2/43 [00:01<00:28,  1.45it/s]"
     ]
    },
    {
     "name": "stdout",
     "output_type": "stream",
     "text": [
      "Filtered by 4 adm1 names: ['Buenos Aires', 'Cordoba', 'La Pampa', 'Santa Fe']\n",
      "Bounding box coordinates: {'min_lat': -41.033855, 'max_lat': -28.00916, 'min_lon': -68.176912, 'max_lon': -56.641502}\n",
      "Bounding box area: 150.245197\n"
     ]
    },
    {
     "name": "stderr",
     "output_type": "stream",
     "text": [
      "Processing rows:   7%|▋         | 3/43 [00:01<00:22,  1.76it/s]"
     ]
    },
    {
     "name": "stdout",
     "output_type": "stream",
     "text": [
      "Filtered by 1 adm2 names: ['Iriondo']\n",
      "Bounding box coordinates: {'min_lat': -33.093937, 'max_lat': -32.393785, 'min_lon': -61.712884, 'max_lon': -60.812569}\n",
      "Bounding box area: 0.630357\n"
     ]
    },
    {
     "name": "stderr",
     "output_type": "stream",
     "text": [
      "Processing rows:   9%|▉         | 4/43 [00:02<00:23,  1.66it/s]"
     ]
    },
    {
     "name": "stdout",
     "output_type": "stream",
     "text": [
      "Filtered by 1 adm1 names: ['Buenos Aires']\n",
      "Bounding box coordinates: {'min_lat': -41.033855, 'max_lat': -30.151774, 'min_lon': -63.418455, 'max_lon': -56.641502}\n",
      "Bounding box area: 73.747351\n"
     ]
    },
    {
     "name": "stderr",
     "output_type": "stream",
     "text": [
      "Processing rows:  12%|█▏        | 5/43 [00:02<00:19,  1.97it/s]"
     ]
    },
    {
     "name": "stdout",
     "output_type": "stream",
     "text": [
      "Filtered by 6 adm2 names: ['Adolfo Alsina', 'Avellaneda', 'Conesa', 'El Cuy', 'General Roca', 'Pichi Mahuida']\n"
     ]
    },
    {
     "name": "stderr",
     "output_type": "stream",
     "text": [
      "Processing rows:  14%|█▍        | 6/43 [00:03<00:18,  1.99it/s]"
     ]
    },
    {
     "name": "stdout",
     "output_type": "stream",
     "text": [
      "Bounding box coordinates: {'min_lat': -41.161987, 'max_lat': -28.198956, 'min_lon': -69.807944, 'max_lon': -58.279448}\n",
      "Bounding box area: 149.444251\n",
      "Filtered by 4 adm1 names: ['Buenos Aires', 'Cordoba', 'La Pampa', 'Santa Fe']\n",
      "Bounding box coordinates: {'min_lat': -41.033855, 'max_lat': -28.00916, 'min_lon': -68.176912, 'max_lon': -56.641502}\n",
      "Bounding box area: 150.245197\n"
     ]
    },
    {
     "name": "stderr",
     "output_type": "stream",
     "text": [
      "Processing rows:  16%|█▋        | 7/43 [00:03<00:15,  2.28it/s]"
     ]
    },
    {
     "name": "stdout",
     "output_type": "stream",
     "text": [
      "Filtered by 5 adm1 names: ['Buenos Aires', 'Chubut', 'Entre Rios', 'Rio Negro', 'Santa Fe']\n",
      "Bounding box coordinates: {'min_lat': -46.00428, 'max_lat': -28.00916, 'min_lon': -72.145968, 'max_lon': -56.641502}\n",
      "Bounding box area: 279.004726\n"
     ]
    },
    {
     "name": "stderr",
     "output_type": "stream",
     "text": [
      "Processing rows:  19%|█▊        | 8/43 [00:03<00:13,  2.52it/s]"
     ]
    },
    {
     "name": "stdout",
     "output_type": "stream",
     "text": [
      "Filtered by 10 adm2 names: ['Avellaneda', 'Escobar', 'General San Martin', 'La Matanza', 'Lomas de Zamora', 'Tres de Febrero', 'Pilar', 'Comuna 13', 'Comuna 14', 'Comuna 15']\n",
      "Bounding box coordinates: {'min_lat': -39.92531, 'max_lat': -28.198956, 'min_lon': -67.8722, 'max_lon': -58.279448}\n",
      "Bounding box area: 112.488006\n"
     ]
    },
    {
     "name": "stderr",
     "output_type": "stream",
     "text": [
      "Processing rows:  21%|██        | 9/43 [00:04<00:19,  1.75it/s]"
     ]
    },
    {
     "name": "stdout",
     "output_type": "stream",
     "text": [
      "Filtered by 9 adm2 names: ['Garay', 'General Obligado', 'La Capital', 'Las Colonias', 'San Cristobal', 'San Javier', 'San Justo', 'San Martin', 'Vera']\n",
      "Bounding box coordinates: {'min_lat': -34.82397, 'max_lat': -27.615255, 'min_lon': -67.184559, 'max_lon': -54.976067}\n",
      "Bounding box area: 88.007539\n"
     ]
    },
    {
     "name": "stderr",
     "output_type": "stream",
     "text": [
      "Processing rows:  23%|██▎       | 10/43 [00:05<00:21,  1.55it/s]"
     ]
    },
    {
     "name": "stdout",
     "output_type": "stream",
     "text": [
      "Filtered by 3 adm1 names: ['Chubut', 'Neuquen', 'Rio Negro']\n",
      "Bounding box coordinates: {'min_lat': -46.00428, 'max_lat': -41.969291, 'min_lon': -72.145968, 'max_lon': -63.576563}\n",
      "Bounding box area: 34.577455\n"
     ]
    },
    {
     "name": "stderr",
     "output_type": "stream",
     "text": [
      "Processing rows:  26%|██▌       | 11/43 [00:05<00:17,  1.82it/s]"
     ]
    },
    {
     "name": "stdout",
     "output_type": "stream",
     "text": [
      "Filtered by 1 adm1 names: ['Chaco']\n",
      "Bounding box coordinates: {'min_lat': -28.020576, 'max_lat': -24.164428, 'min_lon': -63.271647, 'max_lon': -58.316378}\n",
      "Bounding box area: 19.108251\n"
     ]
    },
    {
     "name": "stderr",
     "output_type": "stream",
     "text": [
      "Processing rows:  28%|██▊       | 12/43 [00:06<00:15,  2.02it/s]"
     ]
    },
    {
     "name": "stdout",
     "output_type": "stream",
     "text": [
      "Filtered by 3 adm1 names: ['Formosa', 'Jujuy', 'Salta']\n",
      "Bounding box coordinates: {'min_lat': -26.907776, 'max_lat': -21.805624, 'min_lon': -68.575573, 'max_lon': -57.541975}\n",
      "Bounding box area: 56.295094\n",
      "Filtered by 4 adm1 names: ['Formosa', 'Salta', 'Santiago Del Estero', 'Tucuman']\n",
      "Bounding box coordinates: {'min_lat': -30.120678, 'max_lat': -22.000757, 'min_lon': -68.575573, 'max_lon': -57.541975}\n",
      "Bounding box area: 89.591944\n"
     ]
    },
    {
     "name": "stderr",
     "output_type": "stream",
     "text": [
      "Processing rows:  33%|███▎      | 14/43 [00:06<00:09,  2.96it/s]"
     ]
    },
    {
     "name": "stdout",
     "output_type": "stream",
     "text": [
      "Filtered by 5 adm2 names: ['Gualeguay', 'Iriondo', 'La Capital', 'Las Colonias', 'Rosario']\n",
      "Bounding box coordinates: {'min_lat': -34.82397, 'max_lat': -30.60969, 'min_lon': -67.184559, 'max_lon': -59.110721}\n",
      "Bounding box area: 34.025414\n"
     ]
    },
    {
     "name": "stderr",
     "output_type": "stream",
     "text": [
      "Processing rows:  35%|███▍      | 15/43 [00:07<00:11,  2.39it/s]"
     ]
    },
    {
     "name": "stdout",
     "output_type": "stream",
     "text": [
      "Filtered by 4 adm2 names: ['Capital', 'General Jose de San Martin', 'Oran', 'Rivadavia']\n",
      "Bounding box coordinates: {'min_lat': -36.806208, 'max_lat': -21.998768, 'min_lon': -69.006226, 'max_lon': -55.608658}\n",
      "Bounding box area: 198.383684\n"
     ]
    },
    {
     "name": "stderr",
     "output_type": "stream",
     "text": [
      "Processing rows:  37%|███▋      | 16/43 [00:08<00:15,  1.70it/s]"
     ]
    },
    {
     "name": "stdout",
     "output_type": "stream",
     "text": [
      "Filtered by 6 adm1 names: ['Chaco', 'Corrientes', 'Entre Rios', 'Formosa', 'Salta', 'Santa Fe']\n",
      "Bounding box coordinates: {'min_lat': -34.384612, 'max_lat': -22.000757, 'min_lon': -68.575573, 'max_lon': -55.609897}\n",
      "Bounding box area: 160.565052\n"
     ]
    },
    {
     "name": "stderr",
     "output_type": "stream",
     "text": [
      "Processing rows:  40%|███▉      | 17/43 [00:08<00:13,  1.97it/s]"
     ]
    },
    {
     "name": "stdout",
     "output_type": "stream",
     "text": [
      "Filtered by 3 adm2 names: ['Pergamino', 'Salto', 'San Antonio de Areco']\n",
      "Bounding box coordinates: {'min_lat': -34.499126, 'max_lat': -33.539649, 'min_lon': -60.944141, 'max_lon': -59.26601}\n",
      "Bounding box area: 1.610128\n"
     ]
    },
    {
     "name": "stderr",
     "output_type": "stream",
     "text": [
      "Processing rows:  42%|████▏     | 18/43 [00:09<00:15,  1.66it/s]"
     ]
    },
    {
     "name": "stdout",
     "output_type": "stream",
     "text": [
      "Filtered by 1 adm1 names: ['Corrientes']\n",
      "Bounding box coordinates: {'min_lat': -30.591262, 'max_lat': -27.301516, 'min_lon': -59.620913, 'max_lon': -55.609897}\n",
      "Bounding box area: 13.195224\n"
     ]
    },
    {
     "name": "stderr",
     "output_type": "stream",
     "text": [
      "Processing rows:  44%|████▍     | 19/43 [00:09<00:12,  1.92it/s]"
     ]
    },
    {
     "name": "stdout",
     "output_type": "stream",
     "text": [
      "Filtered by 1 adm2 names: ['La Plata']\n",
      "Bounding box coordinates: {'min_lat': -35.235554, 'max_lat': -34.174939, 'min_lon': -58.288567, 'max_lon': -57.752731}\n",
      "Bounding box area: 0.568316\n"
     ]
    },
    {
     "name": "stderr",
     "output_type": "stream",
     "text": [
      "Processing rows:  47%|████▋     | 20/43 [00:10<00:14,  1.55it/s]"
     ]
    },
    {
     "name": "stdout",
     "output_type": "stream",
     "text": [
      "Filtered by 7 adm1 names: ['Catamarca', 'Cordoba', 'Entre Rios', 'Neuquen', 'Rio Negro', 'Santa Fe', 'Santiago Del Estero']\n",
      "Bounding box coordinates: {'min_lat': -34.384612, 'max_lat': -25.129197, 'min_lon': -69.114097, 'max_lon': -58.807222}\n",
      "Bounding box area: 95.394405\n"
     ]
    },
    {
     "name": "stderr",
     "output_type": "stream",
     "text": [
      "Processing rows:  49%|████▉     | 21/43 [00:10<00:11,  1.85it/s]"
     ]
    },
    {
     "name": "stdout",
     "output_type": "stream",
     "text": [
      "Filtered by 4 adm1 names: ['Chaco', 'Corrientes', 'Formosa', 'Misiones']\n",
      "Bounding box coordinates: {'min_lat': -30.591262, 'max_lat': -22.512505, 'min_lon': -63.271647, 'max_lon': -53.601347}\n",
      "Bounding box area: 78.124004\n"
     ]
    },
    {
     "name": "stderr",
     "output_type": "stream",
     "text": [
      "Processing rows:  51%|█████     | 22/43 [00:11<00:10,  2.02it/s]"
     ]
    },
    {
     "name": "stdout",
     "output_type": "stream",
     "text": [
      "Filtered by 2 adm1 names: ['Buenos Aires', 'Buenos Aires D.f.']\n",
      "Bounding box coordinates: {'min_lat': -41.033855, 'max_lat': -30.151774, 'min_lon': -63.418455, 'max_lon': -56.641502}\n",
      "Bounding box area: 73.747351\n"
     ]
    },
    {
     "name": "stderr",
     "output_type": "stream",
     "text": [
      "Processing rows:  53%|█████▎    | 23/43 [00:13<00:17,  1.13it/s]"
     ]
    },
    {
     "name": "stdout",
     "output_type": "stream",
     "text": [
      "Filtered by 9 adm1 names: ['Catamarca', 'Chaco', 'Cordoba', 'Corrientes', 'Salta', 'San Luis', 'Santa Fe', 'Santiago Del Estero', 'Tucuman']\n",
      "Bounding box coordinates: {'min_lat': -36.000164, 'max_lat': -22.000757, 'min_lon': -69.114097, 'max_lon': -55.609897}\n",
      "Bounding box area: 189.050792\n"
     ]
    },
    {
     "name": "stderr",
     "output_type": "stream",
     "text": [
      "Processing rows:  56%|█████▌    | 24/43 [00:13<00:13,  1.36it/s]"
     ]
    },
    {
     "name": "stdout",
     "output_type": "stream",
     "text": [
      "Filtered by 20 adm2 names: ['Arrecifes', 'Berisso', 'Campana', 'Chacabuco', 'Chivilcoy', 'General Pueyrredon', 'Junin', 'Lujan', 'Mercedes', 'Pergamino', 'Pila', 'Quilmes', 'Salto', 'San Andres de Giles', 'San Antonio de Areco', 'La Plata', 'Tres de Febrero', 'Zarate', 'Pilar', 'General  Lopez']\n",
      "Bounding box coordinates: {'min_lat': -36.615345, 'max_lat': -26.758911, 'min_lon': -65.578013, 'max_lon': -57.164433}\n",
      "Bounding box area: 82.927896\n"
     ]
    },
    {
     "name": "stderr",
     "output_type": "stream",
     "text": [
      "Processing rows:  58%|█████▊    | 25/43 [00:14<00:13,  1.31it/s]"
     ]
    },
    {
     "name": "stdout",
     "output_type": "stream",
     "text": [
      "Filtered by 10 adm2 names: ['Curuzu Cuatia', 'Esquina', 'Goya', 'Lavalle', 'Paso de los Libres', 'San Cosme', 'Gualeguaychu', 'Parana', 'Colon', 'Concordia']\n",
      "Bounding box coordinates: {'min_lat': -33.119871, 'max_lat': -27.265963, 'min_lon': -68.695168, 'max_lon': -56.838651}\n",
      "Bounding box area: 69.406960\n"
     ]
    },
    {
     "name": "stderr",
     "output_type": "stream",
     "text": [
      "Processing rows:  60%|██████    | 26/43 [00:15<00:14,  1.14it/s]"
     ]
    },
    {
     "name": "stdout",
     "output_type": "stream",
     "text": [
      "Filtered by 8 adm1 names: ['Buenos Aires', 'Chaco', 'Cordoba', 'Corrientes', 'Entre Rios', 'Formosa', 'Santa Fe', 'Santiago Del Estero']\n",
      "Bounding box coordinates: {'min_lat': -41.033855, 'max_lat': -22.512505, 'min_lon': -65.057829, 'max_lon': -55.609897}\n",
      "Bounding box area: 174.988455\n"
     ]
    },
    {
     "name": "stderr",
     "output_type": "stream",
     "text": [
      "Processing rows:  63%|██████▎   | 27/43 [00:16<00:12,  1.31it/s]"
     ]
    },
    {
     "name": "stdout",
     "output_type": "stream",
     "text": [
      "Filtered by 19 adm2 names: ['Florentino Ameghino', 'Baradero', 'Arrecifes', 'Colon', 'General Villegas', 'Pergamino', 'Ramallo', 'Rojas', 'Salto', 'San Antonio de Areco', 'San Nicolas', 'Colon', 'General Roca', 'Punilla', 'San Javier', 'La Paz', 'Parana', 'General  Lopez', 'Rosario']\n",
      "Bounding box coordinates: {'min_lat': -45.131851, 'max_lat': -27.615255, 'min_lon': -68.251317, 'max_lon': -54.976067}\n",
      "Bounding box area: 232.537191\n"
     ]
    },
    {
     "name": "stderr",
     "output_type": "stream",
     "text": [
      "Processing rows:  65%|██████▌   | 28/43 [00:16<00:11,  1.28it/s]"
     ]
    },
    {
     "name": "stdout",
     "output_type": "stream",
     "text": [
      "Filtered by 15 adm1 names: ['Buenos Aires', 'Catamarca', 'Chubut', 'Cordoba', 'Formosa', 'Jujuy', 'La Pampa', 'Mendoza', 'Misiones', 'Salta', 'San Juan', 'Santa Cruz', 'Santa Fe', 'Santiago Del Estero', 'Tucuman']\n",
      "Bounding box coordinates: {'min_lat': -52.366255, 'max_lat': -21.805624, 'min_lon': -73.531182, 'max_lon': -53.601347}\n",
      "Bounding box area: 609.068333\n"
     ]
    },
    {
     "name": "stderr",
     "output_type": "stream",
     "text": [
      "Processing rows:  67%|██████▋   | 29/43 [00:17<00:09,  1.41it/s]"
     ]
    },
    {
     "name": "stdout",
     "output_type": "stream",
     "text": [
      "Filtered by 2 adm1 names: ['Corrientes', 'Entre Rios']\n",
      "Bounding box coordinates: {'min_lat': -30.591262, 'max_lat': -27.301516, 'min_lon': -59.620913, 'max_lon': -55.609897}\n",
      "Bounding box area: 13.195224\n"
     ]
    },
    {
     "name": "stderr",
     "output_type": "stream",
     "text": [
      "Processing rows:  70%|██████▉   | 30/43 [00:17<00:08,  1.48it/s]"
     ]
    },
    {
     "name": "stdout",
     "output_type": "stream",
     "text": [
      "Filtered by 1 adm2 names: ['Escalante']\n",
      "Bounding box coordinates: {'min_lat': -45.999795, 'max_lat': -44.678928, 'min_lon': -68.371193, 'max_lon': -66.360497}\n",
      "Bounding box area: 2.655862\n"
     ]
    },
    {
     "name": "stderr",
     "output_type": "stream",
     "text": [
      "Processing rows:  72%|███████▏  | 31/43 [00:18<00:08,  1.38it/s]"
     ]
    },
    {
     "name": "stdout",
     "output_type": "stream",
     "text": [
      "Filtered by 2 adm1 names: ['Chaco', 'Salta']\n",
      "Bounding box coordinates: {'min_lat': -28.020576, 'max_lat': -22.000757, 'min_lon': -68.575573, 'max_lon': -58.316378}\n",
      "Bounding box area: 61.758497\n"
     ]
    },
    {
     "name": "stderr",
     "output_type": "stream",
     "text": [
      "Processing rows:  74%|███████▍  | 32/43 [00:19<00:06,  1.62it/s]"
     ]
    },
    {
     "name": "stdout",
     "output_type": "stream",
     "text": [
      "Filtered by 1 adm2 names: ['Presidente Roque Saenz Pena']\n"
     ]
    },
    {
     "name": "stderr",
     "output_type": "stream",
     "text": [
      "Processing rows:  77%|███████▋  | 33/43 [00:19<00:05,  1.70it/s]"
     ]
    },
    {
     "name": "stdout",
     "output_type": "stream",
     "text": [
      "Filtered by 7 adm2 names: ['Arrecifes', 'La Matanza', 'Lanus', 'Lobos', 'Lomas de Zamora', 'Marcos Paz', 'La Plata']\n",
      "Bounding box coordinates: {'min_lat': -35.435944, 'max_lat': -33.745392, 'min_lon': -60.236801, 'max_lon': -57.752731}\n",
      "Bounding box area: 4.199450\n"
     ]
    },
    {
     "name": "stderr",
     "output_type": "stream",
     "text": [
      "Processing rows:  79%|███████▉  | 34/43 [00:20<00:05,  1.53it/s]"
     ]
    },
    {
     "name": "stdout",
     "output_type": "stream",
     "text": [
      "Filtered by 6 adm1 names: ['Chaco', 'Corrientes', 'Entre Rios', 'Santa Fe', 'Santiago Del Estero', 'Tucuman']\n",
      "Bounding box coordinates: {'min_lat': -34.384612, 'max_lat': -24.164428, 'min_lon': -65.057829, 'max_lon': -55.609897}\n",
      "Bounding box area: 96.559603\n"
     ]
    },
    {
     "name": "stderr",
     "output_type": "stream",
     "text": [
      "Processing rows:  81%|████████▏ | 35/43 [00:20<00:04,  1.75it/s]"
     ]
    },
    {
     "name": "stdout",
     "output_type": "stream",
     "text": [
      "Filtered by 3 adm1 names: ['Chaco', 'Corrientes', 'Formosa']\n",
      "Bounding box coordinates: {'min_lat': -30.591262, 'max_lat': -22.512505, 'min_lon': -63.271647, 'max_lon': -55.609897}\n",
      "Bounding box area: 61.897416\n"
     ]
    },
    {
     "name": "stderr",
     "output_type": "stream",
     "text": [
      "Processing rows:  84%|████████▎ | 36/43 [00:21<00:03,  1.82it/s]"
     ]
    },
    {
     "name": "stdout",
     "output_type": "stream",
     "text": [
      "Filtered by 3 adm2 names: ['Belgrano', 'General Taboada', 'Juan F. Ibarra']\n",
      "Bounding box coordinates: {'min_lat': -33.206578, 'max_lat': -27.721172, 'min_lon': -67.320481, 'max_lon': -61.437693}\n",
      "Bounding box area: 32.269481\n"
     ]
    },
    {
     "name": "stderr",
     "output_type": "stream",
     "text": [
      "Processing rows:  86%|████████▌ | 37/43 [00:22<00:04,  1.38it/s]"
     ]
    },
    {
     "name": "stdout",
     "output_type": "stream",
     "text": [
      "Filtered by 4 adm1 names: ['Chaco', 'La Rioja', 'Salta', 'Tucuman']\n",
      "Bounding box coordinates: {'min_lat': -28.020576, 'max_lat': -22.000757, 'min_lon': -68.575573, 'max_lon': -58.316378}\n",
      "Bounding box area: 61.758497\n"
     ]
    },
    {
     "name": "stderr",
     "output_type": "stream",
     "text": [
      "Processing rows:  88%|████████▊ | 38/43 [00:22<00:03,  1.61it/s]"
     ]
    },
    {
     "name": "stdout",
     "output_type": "stream",
     "text": [
      "Filtered by 1 adm1 names: ['Catamarca']\n",
      "Bounding box coordinates: {'min_lat': -30.116125, 'max_lat': -25.129197, 'min_lon': -69.114097, 'max_lon': -64.839508}\n",
      "Bounding box area: 21.317068\n"
     ]
    },
    {
     "name": "stderr",
     "output_type": "stream",
     "text": [
      "Processing rows:  91%|█████████ | 39/43 [00:23<00:02,  1.86it/s]"
     ]
    },
    {
     "name": "stdout",
     "output_type": "stream",
     "text": [
      "Filtered by 1 adm2 names: ['Quilmes']\n",
      "Bounding box coordinates: {'min_lat': -34.801014, 'max_lat': -34.678736, 'min_lon': -58.346916, 'max_lon': -58.194752}\n",
      "Bounding box area: 0.018606\n"
     ]
    },
    {
     "name": "stderr",
     "output_type": "stream",
     "text": [
      "Processing rows: 100%|██████████| 43/43 [00:24<00:00,  1.79it/s]"
     ]
    },
    {
     "name": "stdout",
     "output_type": "stream",
     "text": [
      "No admin names found!\n",
      "No admin names found!\n",
      "No admin names found!\n",
      "\n",
      "Total rows: 43\n",
      "Rows with imagery: 16\n",
      "Total items found: 211\n",
      "\n",
      "Rows with imagery:\n",
      "  Row 22: 2 items (2014-11-04/2014-11-06)\n",
      "  Row 23: 21 items (2015-03-04/2015-03-06)\n",
      "  Row 24: 5 items (2015-08-12/2015-08-14)\n",
      "  Row 25: 6 items (2016-01-11/2016-01-13)\n",
      "  Row 26: 19 items (2016-04-15/2016-04-17)\n",
      "  Row 27: 26 items (2016-12-26/2016-12-28)\n",
      "  Row 28: 48 items (2017-04-07/2017-04-09)\n",
      "  Row 29: 5 items (2017-06-14/2017-06-16)\n",
      "  Row 31: 16 items (2018-02-21/2018-02-23)\n",
      "  Row 33: 3 items (2018-11-12/2018-11-14)\n",
      "  Row 34: 20 items (2019-01-17/2019-01-19)\n",
      "  Row 35: 12 items (2019-04-23/2019-04-25)\n",
      "  Row 36: 3 items (2019-05-20/2019-05-22)\n",
      "  Row 37: 13 items (2020-02-19/2020-02-21)\n",
      "  Row 38: 11 items (2021-03-01/2021-03-03)\n",
      "  Row 39: 1 items (2023-07-05/2023-07-07)\n"
     ]
    },
    {
     "name": "stderr",
     "output_type": "stream",
     "text": [
      "\n"
     ]
    }
   ],
   "source": [
    "import pandas as pd\n",
    "from tqdm import tqdm\n",
    "\n",
    "# Initialize results storage\n",
    "results = []\n",
    "\n",
    "print(\"=== SEARCHING SENTINEL-1 RTC FOR ALL EMDAT ROWS ===\")\n",
    "\n",
    "# Process each row\n",
    "for idx, row in tqdm(emdat.iterrows(), total=len(emdat), desc=\"Processing rows\"):\n",
    "    try:\n",
    "        # Get bounding box for this row\n",
    "        bbox_geometry, bbox_dict = get_flood_bounding_box(row, \"ARG\")\n",
    "\n",
    "        if bbox_geometry is None:\n",
    "            results.append(\n",
    "                {\n",
    "                    \"row_index\": idx,\n",
    "                    \"event_name\": row.get(\"Event Name\", \"Unknown\"),\n",
    "                    \"end_date\": row.get(\"end_date\", None),\n",
    "                    \"datetime_range\": row.get(\"datetime_range\", None),\n",
    "                    \"bbox_available\": False,\n",
    "                    \"items_found\": 0,\n",
    "                    \"error\": \"No bounding box available\",\n",
    "                }\n",
    "            )\n",
    "            continue\n",
    "\n",
    "        # Convert shapely geometry bounds to bbox format\n",
    "        bounds = bbox_geometry.bounds\n",
    "        bbox = [bounds[0], bounds[1], bounds[2], bounds[3]]\n",
    "\n",
    "        # Get datetime range\n",
    "        datetime_range = row.get(\"datetime_range\")\n",
    "\n",
    "        if datetime_range is None:\n",
    "            results.append(\n",
    "                {\n",
    "                    \"row_index\": idx,\n",
    "                    \"event_name\": row.get(\"Event Name\", \"Unknown\"),\n",
    "                    \"end_date\": row.get(\"end_date\", None),\n",
    "                    \"datetime_range\": None,\n",
    "                    \"bbox_available\": True,\n",
    "                    \"items_found\": 0,\n",
    "                    \"error\": \"No valid date range\",\n",
    "                }\n",
    "            )\n",
    "            continue\n",
    "\n",
    "        # Search for Sentinel-1 RTC data\n",
    "        search = catalog.search(\n",
    "            collections=[\"sentinel-1-rtc\"],\n",
    "            bbox=bbox,\n",
    "            datetime=datetime_range,\n",
    "            query={\n",
    "                \"sar:instrument_mode\": {\"eq\": \"IW\"},\n",
    "                \"sar:frequency_band\": {\"eq\": \"C\"},\n",
    "                \"sar:polarizations\": {\"in\": [[\"VV\"], [\"VH\"], [\"VV\", \"VH\"]]},\n",
    "            },\n",
    "        )\n",
    "\n",
    "        items = search.item_collection()\n",
    "\n",
    "        # Store results\n",
    "        results.append(\n",
    "            {\n",
    "                \"row_index\": idx,\n",
    "                \"event_name\": row.get(\"Event Name\", \"Unknown\"),\n",
    "                \"end_date\": row.get(\"end_date\", None),\n",
    "                \"datetime_range\": datetime_range,\n",
    "                \"bbox_available\": True,\n",
    "                \"items_found\": len(items),\n",
    "                \"bbox_coords\": bbox,\n",
    "                \"error\": None,\n",
    "            }\n",
    "        )\n",
    "\n",
    "    except Exception as e:\n",
    "        results.append(\n",
    "            {\n",
    "                \"row_index\": idx,\n",
    "                \"event_name\": row.get(\"Event Name\", \"Unknown\"),\n",
    "                \"end_date\": row.get(\"end_date\", None),\n",
    "                \"datetime_range\": row.get(\"datetime_range\", None),\n",
    "                \"bbox_available\": False,\n",
    "                \"items_found\": 0,\n",
    "                \"error\": str(e),\n",
    "            }\n",
    "        )\n",
    "\n",
    "# Convert results to DataFrame\n",
    "results_df = pd.DataFrame(results)\n",
    "\n",
    "# Summary statistics\n",
    "print(f\"\\nTotal rows: {len(results_df)}\")\n",
    "print(f\"Rows with imagery: {(results_df['items_found'] > 0).sum()}\")\n",
    "print(f\"Total items found: {results_df['items_found'].sum()}\")\n",
    "\n",
    "# Show rows with imagery\n",
    "rows_with_imagery = results_df[results_df[\"items_found\"] > 0]\n",
    "if len(rows_with_imagery) > 0:\n",
    "    print(\"\\nRows with imagery:\")\n",
    "    for _, row in rows_with_imagery.iterrows():\n",
    "        print(\n",
    "            f\"  Row {row['row_index']}: {row['items_found']} items ({row['datetime_range']})\"\n",
    "        )"
   ]
  },
  {
   "cell_type": "code",
   "execution_count": 11,
   "metadata": {},
   "outputs": [
    {
     "name": "stdout",
     "output_type": "stream",
     "text": [
      "=== SEARCHING SENTINEL-2 L2A FOR ALL EMDAT ROWS ===\n"
     ]
    },
    {
     "name": "stderr",
     "output_type": "stream",
     "text": [
      "Processing rows:   0%|          | 0/43 [00:00<?, ?it/s]"
     ]
    },
    {
     "name": "stdout",
     "output_type": "stream",
     "text": [
      "Filtered by 7 adm1 names: ['Catamarca', 'Cordoba', 'Jujuy', 'La Rioja', 'Salta', 'Santiago Del Estero', 'Tucuman']\n",
      "Bounding box coordinates: {'min_lat': -30.120678, 'max_lat': -21.805624, 'min_lon': -69.114097, 'max_lon': -61.627238}\n",
      "Bounding box area: 62.253637\n"
     ]
    },
    {
     "name": "stderr",
     "output_type": "stream",
     "text": [
      "Processing rows:   2%|▏         | 1/43 [00:00<00:13,  3.21it/s]"
     ]
    },
    {
     "name": "stdout",
     "output_type": "stream",
     "text": [
      "Filtered by 8 adm2 names: ['Avellaneda', 'Berisso', 'Lanus', 'Quilmes', 'San Miguel', 'San  Fernando', 'Parana', 'Rosario']\n",
      "Bounding box coordinates: {'min_lat': -39.92531, 'max_lat': -27.468575, 'min_lon': -67.8722, 'max_lon': -56.9436}\n",
      "Bounding box area: 136.134674\n"
     ]
    },
    {
     "name": "stderr",
     "output_type": "stream",
     "text": [
      "Processing rows:   5%|▍         | 2/43 [00:01<00:29,  1.39it/s]"
     ]
    },
    {
     "name": "stdout",
     "output_type": "stream",
     "text": [
      "Filtered by 4 adm1 names: ['Buenos Aires', 'Cordoba', 'La Pampa', 'Santa Fe']\n",
      "Bounding box coordinates: {'min_lat': -41.033855, 'max_lat': -28.00916, 'min_lon': -68.176912, 'max_lon': -56.641502}\n",
      "Bounding box area: 150.245197\n"
     ]
    },
    {
     "name": "stderr",
     "output_type": "stream",
     "text": [
      "Processing rows:   7%|▋         | 3/43 [00:01<00:21,  1.87it/s]"
     ]
    },
    {
     "name": "stdout",
     "output_type": "stream",
     "text": [
      "Filtered by 1 adm2 names: ['Iriondo']\n",
      "Bounding box coordinates: {'min_lat': -33.093937, 'max_lat': -32.393785, 'min_lon': -61.712884, 'max_lon': -60.812569}\n",
      "Bounding box area: 0.630357\n"
     ]
    },
    {
     "name": "stderr",
     "output_type": "stream",
     "text": [
      "Processing rows:   9%|▉         | 4/43 [00:02<00:22,  1.70it/s]"
     ]
    },
    {
     "name": "stdout",
     "output_type": "stream",
     "text": [
      "Filtered by 1 adm1 names: ['Buenos Aires']\n",
      "Bounding box coordinates: {'min_lat': -41.033855, 'max_lat': -30.151774, 'min_lon': -63.418455, 'max_lon': -56.641502}\n",
      "Bounding box area: 73.747351\n"
     ]
    },
    {
     "name": "stderr",
     "output_type": "stream",
     "text": [
      "Processing rows:  12%|█▏        | 5/43 [00:02<00:19,  1.99it/s]"
     ]
    },
    {
     "name": "stdout",
     "output_type": "stream",
     "text": [
      "Filtered by 6 adm2 names: ['Adolfo Alsina', 'Avellaneda', 'Conesa', 'El Cuy', 'General Roca', 'Pichi Mahuida']\n"
     ]
    },
    {
     "name": "stderr",
     "output_type": "stream",
     "text": [
      "Processing rows:  14%|█▍        | 6/43 [00:03<00:20,  1.79it/s]"
     ]
    },
    {
     "name": "stdout",
     "output_type": "stream",
     "text": [
      "Bounding box coordinates: {'min_lat': -41.161987, 'max_lat': -28.198956, 'min_lon': -69.807944, 'max_lon': -58.279448}\n",
      "Bounding box area: 149.444251\n",
      "Filtered by 4 adm1 names: ['Buenos Aires', 'Cordoba', 'La Pampa', 'Santa Fe']\n",
      "Bounding box coordinates: {'min_lat': -41.033855, 'max_lat': -28.00916, 'min_lon': -68.176912, 'max_lon': -56.641502}\n",
      "Bounding box area: 150.245197\n"
     ]
    },
    {
     "name": "stderr",
     "output_type": "stream",
     "text": [
      "Processing rows:  16%|█▋        | 7/43 [00:03<00:17,  2.08it/s]"
     ]
    },
    {
     "name": "stdout",
     "output_type": "stream",
     "text": [
      "Filtered by 5 adm1 names: ['Buenos Aires', 'Chubut', 'Entre Rios', 'Rio Negro', 'Santa Fe']\n",
      "Bounding box coordinates: {'min_lat': -46.00428, 'max_lat': -28.00916, 'min_lon': -72.145968, 'max_lon': -56.641502}\n",
      "Bounding box area: 279.004726\n"
     ]
    },
    {
     "name": "stderr",
     "output_type": "stream",
     "text": [
      "Processing rows:  19%|█▊        | 8/43 [00:03<00:14,  2.35it/s]"
     ]
    },
    {
     "name": "stdout",
     "output_type": "stream",
     "text": [
      "Filtered by 10 adm2 names: ['Avellaneda', 'Escobar', 'General San Martin', 'La Matanza', 'Lomas de Zamora', 'Tres de Febrero', 'Pilar', 'Comuna 13', 'Comuna 14', 'Comuna 15']\n",
      "Bounding box coordinates: {'min_lat': -39.92531, 'max_lat': -28.198956, 'min_lon': -67.8722, 'max_lon': -58.279448}\n",
      "Bounding box area: 112.488006\n"
     ]
    },
    {
     "name": "stderr",
     "output_type": "stream",
     "text": [
      "Processing rows:  21%|██        | 9/43 [00:04<00:19,  1.79it/s]"
     ]
    },
    {
     "name": "stdout",
     "output_type": "stream",
     "text": [
      "Filtered by 9 adm2 names: ['Garay', 'General Obligado', 'La Capital', 'Las Colonias', 'San Cristobal', 'San Javier', 'San Justo', 'San Martin', 'Vera']\n",
      "Bounding box coordinates: {'min_lat': -34.82397, 'max_lat': -27.615255, 'min_lon': -67.184559, 'max_lon': -54.976067}\n",
      "Bounding box area: 88.007539\n"
     ]
    },
    {
     "name": "stderr",
     "output_type": "stream",
     "text": [
      "Processing rows:  23%|██▎       | 10/43 [00:05<00:20,  1.57it/s]"
     ]
    },
    {
     "name": "stdout",
     "output_type": "stream",
     "text": [
      "Filtered by 3 adm1 names: ['Chubut', 'Neuquen', 'Rio Negro']\n",
      "Bounding box coordinates: {'min_lat': -46.00428, 'max_lat': -41.969291, 'min_lon': -72.145968, 'max_lon': -63.576563}\n",
      "Bounding box area: 34.577455\n"
     ]
    },
    {
     "name": "stderr",
     "output_type": "stream",
     "text": [
      "Processing rows:  26%|██▌       | 11/43 [00:05<00:17,  1.86it/s]"
     ]
    },
    {
     "name": "stdout",
     "output_type": "stream",
     "text": [
      "Filtered by 1 adm1 names: ['Chaco']\n",
      "Bounding box coordinates: {'min_lat': -28.020576, 'max_lat': -24.164428, 'min_lon': -63.271647, 'max_lon': -58.316378}\n",
      "Bounding box area: 19.108251\n"
     ]
    },
    {
     "name": "stderr",
     "output_type": "stream",
     "text": [
      "Processing rows:  30%|███       | 13/43 [00:06<00:11,  2.58it/s]"
     ]
    },
    {
     "name": "stdout",
     "output_type": "stream",
     "text": [
      "Filtered by 3 adm1 names: ['Formosa', 'Jujuy', 'Salta']\n",
      "Bounding box coordinates: {'min_lat': -26.907776, 'max_lat': -21.805624, 'min_lon': -68.575573, 'max_lon': -57.541975}\n",
      "Bounding box area: 56.295094\n",
      "Filtered by 4 adm1 names: ['Formosa', 'Salta', 'Santiago Del Estero', 'Tucuman']\n",
      "Bounding box coordinates: {'min_lat': -30.120678, 'max_lat': -22.000757, 'min_lon': -68.575573, 'max_lon': -57.541975}\n",
      "Bounding box area: 89.591944\n"
     ]
    },
    {
     "name": "stderr",
     "output_type": "stream",
     "text": [
      "Processing rows:  33%|███▎      | 14/43 [00:06<00:10,  2.73it/s]"
     ]
    },
    {
     "name": "stdout",
     "output_type": "stream",
     "text": [
      "Filtered by 5 adm2 names: ['Gualeguay', 'Iriondo', 'La Capital', 'Las Colonias', 'Rosario']\n",
      "Bounding box coordinates: {'min_lat': -34.82397, 'max_lat': -30.60969, 'min_lon': -67.184559, 'max_lon': -59.110721}\n",
      "Bounding box area: 34.025414\n"
     ]
    },
    {
     "name": "stderr",
     "output_type": "stream",
     "text": [
      "Processing rows:  35%|███▍      | 15/43 [00:07<00:14,  1.97it/s]"
     ]
    },
    {
     "name": "stdout",
     "output_type": "stream",
     "text": [
      "Filtered by 4 adm2 names: ['Capital', 'General Jose de San Martin', 'Oran', 'Rivadavia']\n",
      "Bounding box coordinates: {'min_lat': -36.806208, 'max_lat': -21.998768, 'min_lon': -69.006226, 'max_lon': -55.608658}\n",
      "Bounding box area: 198.383684\n"
     ]
    },
    {
     "name": "stderr",
     "output_type": "stream",
     "text": [
      "Processing rows:  37%|███▋      | 16/43 [00:08<00:16,  1.67it/s]"
     ]
    },
    {
     "name": "stdout",
     "output_type": "stream",
     "text": [
      "Filtered by 6 adm1 names: ['Chaco', 'Corrientes', 'Entre Rios', 'Formosa', 'Salta', 'Santa Fe']\n",
      "Bounding box coordinates: {'min_lat': -34.384612, 'max_lat': -22.000757, 'min_lon': -68.575573, 'max_lon': -55.609897}\n",
      "Bounding box area: 160.565052\n"
     ]
    },
    {
     "name": "stderr",
     "output_type": "stream",
     "text": [
      "Processing rows:  40%|███▉      | 17/43 [00:08<00:13,  1.95it/s]"
     ]
    },
    {
     "name": "stdout",
     "output_type": "stream",
     "text": [
      "Filtered by 3 adm2 names: ['Pergamino', 'Salto', 'San Antonio de Areco']\n",
      "Bounding box coordinates: {'min_lat': -34.499126, 'max_lat': -33.539649, 'min_lon': -60.944141, 'max_lon': -59.26601}\n",
      "Bounding box area: 1.610128\n"
     ]
    },
    {
     "name": "stderr",
     "output_type": "stream",
     "text": [
      "Processing rows:  42%|████▏     | 18/43 [00:09<00:13,  1.80it/s]"
     ]
    },
    {
     "name": "stdout",
     "output_type": "stream",
     "text": [
      "Filtered by 1 adm1 names: ['Corrientes']\n",
      "Bounding box coordinates: {'min_lat': -30.591262, 'max_lat': -27.301516, 'min_lon': -59.620913, 'max_lon': -55.609897}\n",
      "Bounding box area: 13.195224\n"
     ]
    },
    {
     "name": "stderr",
     "output_type": "stream",
     "text": [
      "Processing rows:  44%|████▍     | 19/43 [00:09<00:11,  2.06it/s]"
     ]
    },
    {
     "name": "stdout",
     "output_type": "stream",
     "text": [
      "Filtered by 1 adm2 names: ['La Plata']\n",
      "Bounding box coordinates: {'min_lat': -35.235554, 'max_lat': -34.174939, 'min_lon': -58.288567, 'max_lon': -57.752731}\n",
      "Bounding box area: 0.568316\n"
     ]
    },
    {
     "name": "stderr",
     "output_type": "stream",
     "text": [
      "Processing rows:  47%|████▋     | 20/43 [00:10<00:14,  1.55it/s]"
     ]
    },
    {
     "name": "stdout",
     "output_type": "stream",
     "text": [
      "Filtered by 7 adm1 names: ['Catamarca', 'Cordoba', 'Entre Rios', 'Neuquen', 'Rio Negro', 'Santa Fe', 'Santiago Del Estero']\n",
      "Bounding box coordinates: {'min_lat': -34.384612, 'max_lat': -25.129197, 'min_lon': -69.114097, 'max_lon': -58.807222}\n",
      "Bounding box area: 95.394405\n"
     ]
    },
    {
     "name": "stderr",
     "output_type": "stream",
     "text": [
      "Processing rows:  49%|████▉     | 21/43 [00:11<00:12,  1.81it/s]"
     ]
    },
    {
     "name": "stdout",
     "output_type": "stream",
     "text": [
      "Filtered by 4 adm1 names: ['Chaco', 'Corrientes', 'Formosa', 'Misiones']\n",
      "Bounding box coordinates: {'min_lat': -30.591262, 'max_lat': -22.512505, 'min_lon': -63.271647, 'max_lon': -53.601347}\n",
      "Bounding box area: 78.124004\n"
     ]
    },
    {
     "name": "stderr",
     "output_type": "stream",
     "text": [
      "Processing rows:  51%|█████     | 22/43 [00:11<00:10,  2.08it/s]"
     ]
    },
    {
     "name": "stdout",
     "output_type": "stream",
     "text": [
      "Filtered by 2 adm1 names: ['Buenos Aires', 'Buenos Aires D.f.']\n",
      "Bounding box coordinates: {'min_lat': -41.033855, 'max_lat': -30.151774, 'min_lon': -63.418455, 'max_lon': -56.641502}\n",
      "Bounding box area: 73.747351\n"
     ]
    },
    {
     "name": "stderr",
     "output_type": "stream",
     "text": [
      "Processing rows:  53%|█████▎    | 23/43 [00:11<00:08,  2.33it/s]"
     ]
    },
    {
     "name": "stdout",
     "output_type": "stream",
     "text": [
      "Filtered by 9 adm1 names: ['Catamarca', 'Chaco', 'Cordoba', 'Corrientes', 'Salta', 'San Luis', 'Santa Fe', 'Santiago Del Estero', 'Tucuman']\n",
      "Bounding box coordinates: {'min_lat': -36.000164, 'max_lat': -22.000757, 'min_lon': -69.114097, 'max_lon': -55.609897}\n",
      "Bounding box area: 189.050792\n"
     ]
    },
    {
     "name": "stderr",
     "output_type": "stream",
     "text": [
      "Processing rows:  56%|█████▌    | 24/43 [00:11<00:07,  2.53it/s]"
     ]
    },
    {
     "name": "stdout",
     "output_type": "stream",
     "text": [
      "Filtered by 20 adm2 names: ['Arrecifes', 'Berisso', 'Campana', 'Chacabuco', 'Chivilcoy', 'General Pueyrredon', 'Junin', 'Lujan', 'Mercedes', 'Pergamino', 'Pila', 'Quilmes', 'Salto', 'San Andres de Giles', 'San Antonio de Areco', 'La Plata', 'Tres de Febrero', 'Zarate', 'Pilar', 'General  Lopez']\n",
      "Bounding box coordinates: {'min_lat': -36.615345, 'max_lat': -26.758911, 'min_lon': -65.578013, 'max_lon': -57.164433}\n",
      "Bounding box area: 82.927896\n"
     ]
    },
    {
     "name": "stderr",
     "output_type": "stream",
     "text": [
      "Processing rows:  58%|█████▊    | 25/43 [00:12<00:09,  1.93it/s]"
     ]
    },
    {
     "name": "stdout",
     "output_type": "stream",
     "text": [
      "Filtered by 10 adm2 names: ['Curuzu Cuatia', 'Esquina', 'Goya', 'Lavalle', 'Paso de los Libres', 'San Cosme', 'Gualeguaychu', 'Parana', 'Colon', 'Concordia']\n",
      "Bounding box coordinates: {'min_lat': -33.119871, 'max_lat': -27.265963, 'min_lon': -68.695168, 'max_lon': -56.838651}\n",
      "Bounding box area: 69.406960\n"
     ]
    },
    {
     "name": "stderr",
     "output_type": "stream",
     "text": [
      "Processing rows:  60%|██████    | 26/43 [00:13<00:09,  1.79it/s]"
     ]
    },
    {
     "name": "stdout",
     "output_type": "stream",
     "text": [
      "Filtered by 8 adm1 names: ['Buenos Aires', 'Chaco', 'Cordoba', 'Corrientes', 'Entre Rios', 'Formosa', 'Santa Fe', 'Santiago Del Estero']\n",
      "Bounding box coordinates: {'min_lat': -41.033855, 'max_lat': -22.512505, 'min_lon': -65.057829, 'max_lon': -55.609897}\n",
      "Bounding box area: 174.988455\n"
     ]
    },
    {
     "name": "stderr",
     "output_type": "stream",
     "text": [
      "Processing rows:  63%|██████▎   | 27/43 [00:13<00:07,  2.07it/s]"
     ]
    },
    {
     "name": "stdout",
     "output_type": "stream",
     "text": [
      "Filtered by 19 adm2 names: ['Florentino Ameghino', 'Baradero', 'Arrecifes', 'Colon', 'General Villegas', 'Pergamino', 'Ramallo', 'Rojas', 'Salto', 'San Antonio de Areco', 'San Nicolas', 'Colon', 'General Roca', 'Punilla', 'San Javier', 'La Paz', 'Parana', 'General  Lopez', 'Rosario']\n",
      "Bounding box coordinates: {'min_lat': -45.131851, 'max_lat': -27.615255, 'min_lon': -68.251317, 'max_lon': -54.976067}\n",
      "Bounding box area: 232.537191\n"
     ]
    },
    {
     "name": "stderr",
     "output_type": "stream",
     "text": [
      "Processing rows:  65%|██████▌   | 28/43 [00:14<00:09,  1.51it/s]"
     ]
    },
    {
     "name": "stdout",
     "output_type": "stream",
     "text": [
      "Filtered by 15 adm1 names: ['Buenos Aires', 'Catamarca', 'Chubut', 'Cordoba', 'Formosa', 'Jujuy', 'La Pampa', 'Mendoza', 'Misiones', 'Salta', 'San Juan', 'Santa Cruz', 'Santa Fe', 'Santiago Del Estero', 'Tucuman']\n",
      "Bounding box coordinates: {'min_lat': -52.366255, 'max_lat': -21.805624, 'min_lon': -73.531182, 'max_lon': -53.601347}\n",
      "Bounding box area: 609.068333\n"
     ]
    },
    {
     "name": "stderr",
     "output_type": "stream",
     "text": [
      "Processing rows:  67%|██████▋   | 29/43 [00:15<00:07,  1.79it/s]"
     ]
    },
    {
     "name": "stdout",
     "output_type": "stream",
     "text": [
      "Filtered by 2 adm1 names: ['Corrientes', 'Entre Rios']\n",
      "Bounding box coordinates: {'min_lat': -30.591262, 'max_lat': -27.301516, 'min_lon': -59.620913, 'max_lon': -55.609897}\n",
      "Bounding box area: 13.195224\n"
     ]
    },
    {
     "name": "stderr",
     "output_type": "stream",
     "text": [
      "Processing rows:  70%|██████▉   | 30/43 [00:15<00:06,  2.02it/s]"
     ]
    },
    {
     "name": "stdout",
     "output_type": "stream",
     "text": [
      "Filtered by 1 adm2 names: ['Escalante']\n",
      "Bounding box coordinates: {'min_lat': -45.999795, 'max_lat': -44.678928, 'min_lon': -68.371193, 'max_lon': -66.360497}\n",
      "Bounding box area: 2.655862\n"
     ]
    },
    {
     "name": "stderr",
     "output_type": "stream",
     "text": [
      "Processing rows:  72%|███████▏  | 31/43 [00:16<00:06,  1.73it/s]"
     ]
    },
    {
     "name": "stdout",
     "output_type": "stream",
     "text": [
      "Filtered by 2 adm1 names: ['Chaco', 'Salta']\n",
      "Bounding box coordinates: {'min_lat': -28.020576, 'max_lat': -22.000757, 'min_lon': -68.575573, 'max_lon': -58.316378}\n",
      "Bounding box area: 61.758497\n"
     ]
    },
    {
     "name": "stderr",
     "output_type": "stream",
     "text": [
      "Processing rows:  74%|███████▍  | 32/43 [00:16<00:05,  1.98it/s]"
     ]
    },
    {
     "name": "stdout",
     "output_type": "stream",
     "text": [
      "Filtered by 1 adm2 names: ['Presidente Roque Saenz Pena']\n"
     ]
    },
    {
     "name": "stderr",
     "output_type": "stream",
     "text": [
      "Processing rows:  77%|███████▋  | 33/43 [00:17<00:05,  1.82it/s]"
     ]
    },
    {
     "name": "stdout",
     "output_type": "stream",
     "text": [
      "Filtered by 7 adm2 names: ['Arrecifes', 'La Matanza', 'Lanus', 'Lobos', 'Lomas de Zamora', 'Marcos Paz', 'La Plata']\n",
      "Bounding box coordinates: {'min_lat': -35.435944, 'max_lat': -33.745392, 'min_lon': -60.236801, 'max_lon': -57.752731}\n",
      "Bounding box area: 4.199450\n"
     ]
    },
    {
     "name": "stderr",
     "output_type": "stream",
     "text": [
      "Processing rows:  79%|███████▉  | 34/43 [00:17<00:05,  1.72it/s]"
     ]
    },
    {
     "name": "stdout",
     "output_type": "stream",
     "text": [
      "Filtered by 6 adm1 names: ['Chaco', 'Corrientes', 'Entre Rios', 'Santa Fe', 'Santiago Del Estero', 'Tucuman']\n",
      "Bounding box coordinates: {'min_lat': -34.384612, 'max_lat': -24.164428, 'min_lon': -65.057829, 'max_lon': -55.609897}\n",
      "Bounding box area: 96.559603\n"
     ]
    },
    {
     "name": "stderr",
     "output_type": "stream",
     "text": [
      "Processing rows:  81%|████████▏ | 35/43 [00:18<00:04,  1.85it/s]"
     ]
    },
    {
     "name": "stdout",
     "output_type": "stream",
     "text": [
      "Filtered by 3 adm1 names: ['Chaco', 'Corrientes', 'Formosa']\n",
      "Bounding box coordinates: {'min_lat': -30.591262, 'max_lat': -22.512505, 'min_lon': -63.271647, 'max_lon': -55.609897}\n",
      "Bounding box area: 61.897416\n"
     ]
    },
    {
     "name": "stderr",
     "output_type": "stream",
     "text": [
      "Processing rows:  84%|████████▎ | 36/43 [00:18<00:03,  2.10it/s]"
     ]
    },
    {
     "name": "stdout",
     "output_type": "stream",
     "text": [
      "Filtered by 3 adm2 names: ['Belgrano', 'General Taboada', 'Juan F. Ibarra']\n",
      "Bounding box coordinates: {'min_lat': -33.206578, 'max_lat': -27.721172, 'min_lon': -67.320481, 'max_lon': -61.437693}\n",
      "Bounding box area: 32.269481\n"
     ]
    },
    {
     "name": "stderr",
     "output_type": "stream",
     "text": [
      "Processing rows:  86%|████████▌ | 37/43 [00:19<00:03,  1.58it/s]"
     ]
    },
    {
     "name": "stdout",
     "output_type": "stream",
     "text": [
      "Filtered by 4 adm1 names: ['Chaco', 'La Rioja', 'Salta', 'Tucuman']\n",
      "Bounding box coordinates: {'min_lat': -28.020576, 'max_lat': -22.000757, 'min_lon': -68.575573, 'max_lon': -58.316378}\n",
      "Bounding box area: 61.758497\n"
     ]
    },
    {
     "name": "stderr",
     "output_type": "stream",
     "text": [
      "Processing rows:  88%|████████▊ | 38/43 [00:20<00:02,  1.85it/s]"
     ]
    },
    {
     "name": "stdout",
     "output_type": "stream",
     "text": [
      "Filtered by 1 adm1 names: ['Catamarca']\n",
      "Bounding box coordinates: {'min_lat': -30.116125, 'max_lat': -25.129197, 'min_lon': -69.114097, 'max_lon': -64.839508}\n",
      "Bounding box area: 21.317068\n"
     ]
    },
    {
     "name": "stderr",
     "output_type": "stream",
     "text": [
      "Processing rows:  91%|█████████ | 39/43 [00:20<00:01,  2.11it/s]"
     ]
    },
    {
     "name": "stdout",
     "output_type": "stream",
     "text": [
      "Filtered by 1 adm2 names: ['Quilmes']\n",
      "Bounding box coordinates: {'min_lat': -34.801014, 'max_lat': -34.678736, 'min_lon': -58.346916, 'max_lon': -58.194752}\n",
      "Bounding box area: 0.018606\n"
     ]
    },
    {
     "name": "stderr",
     "output_type": "stream",
     "text": [
      "Processing rows: 100%|██████████| 43/43 [00:20<00:00,  2.05it/s]"
     ]
    },
    {
     "name": "stdout",
     "output_type": "stream",
     "text": [
      "No admin names found!\n",
      "No admin names found!\n",
      "No admin names found!\n",
      "\n",
      "Total rows: 43\n",
      "Rows with imagery: 0\n",
      "Total items found: 0\n"
     ]
    },
    {
     "name": "stderr",
     "output_type": "stream",
     "text": [
      "\n"
     ]
    }
   ],
   "source": [
    "import pandas as pd\n",
    "from tqdm import tqdm\n",
    "\n",
    "# Initialize results storage\n",
    "results = []\n",
    "\n",
    "print(\"=== SEARCHING SENTINEL-2 L2A FOR ALL EMDAT ROWS ===\")\n",
    "\n",
    "# Process each row\n",
    "for idx, row in tqdm(emdat.iterrows(), total=len(emdat), desc=\"Processing rows\"):\n",
    "    try:\n",
    "        # Get bounding box for this row\n",
    "        bbox_geometry, bbox_dict = get_flood_bounding_box(row, \"ARG\")\n",
    "\n",
    "        if bbox_geometry is None:\n",
    "            results.append(\n",
    "                {\n",
    "                    \"row_index\": idx,\n",
    "                    \"event_name\": row.get(\"Event Name\", \"Unknown\"),\n",
    "                    \"end_date\": row.get(\"end_date\", None),\n",
    "                    \"datetime_range\": row.get(\"datetime_range\", None),\n",
    "                    \"bbox_available\": False,\n",
    "                    \"items_found\": 0,\n",
    "                    \"error\": \"No bounding box available\",\n",
    "                }\n",
    "            )\n",
    "            continue\n",
    "\n",
    "        # Convert shapely geometry bounds to bbox format\n",
    "        bounds = bbox_geometry.bounds\n",
    "        bbox = [bounds[0], bounds[1], bounds[2], bounds[3]]\n",
    "\n",
    "        # Get datetime range\n",
    "        datetime_range = row.get(\"datetime_range\")\n",
    "\n",
    "        if datetime_range is None:\n",
    "            results.append(\n",
    "                {\n",
    "                    \"row_index\": idx,\n",
    "                    \"event_name\": row.get(\"Event Name\", \"Unknown\"),\n",
    "                    \"end_date\": row.get(\"end_date\", None),\n",
    "                    \"datetime_range\": None,\n",
    "                    \"bbox_available\": True,\n",
    "                    \"items_found\": 0,\n",
    "                    \"error\": \"No valid date range\",\n",
    "                }\n",
    "            )\n",
    "            continue\n",
    "\n",
    "        # Search for Sentinel-2 L2A data with cloud cover filtering\n",
    "        search = catalog.search(\n",
    "            collections=[\"sentinel-2-l2a\"],\n",
    "            bbox=bbox,\n",
    "            datetime=datetime_range,\n",
    "            query={\n",
    "                \"eo:cloud_cover\": {\"lt\": 20},  # Less than 20% cloud cover\n",
    "                \"platform\": {\"in\": [\"sentinel-2a\", \"sentinel-2b\"]},\n",
    "            },\n",
    "        )\n",
    "\n",
    "        items = search.item_collection()\n",
    "\n",
    "        # Store results\n",
    "        results.append(\n",
    "            {\n",
    "                \"row_index\": idx,\n",
    "                \"event_name\": row.get(\"Event Name\", \"Unknown\"),\n",
    "                \"end_date\": row.get(\"end_date\", None),\n",
    "                \"datetime_range\": datetime_range,\n",
    "                \"bbox_available\": True,\n",
    "                \"items_found\": len(items),\n",
    "                \"bbox_coords\": bbox,\n",
    "                \"error\": None,\n",
    "            }\n",
    "        )\n",
    "\n",
    "    except Exception as e:\n",
    "        results.append(\n",
    "            {\n",
    "                \"row_index\": idx,\n",
    "                \"event_name\": row.get(\"Event Name\", \"Unknown\"),\n",
    "                \"end_date\": row.get(\"end_date\", None),\n",
    "                \"datetime_range\": row.get(\"datetime_range\", None),\n",
    "                \"bbox_available\": False,\n",
    "                \"items_found\": 0,\n",
    "                \"error\": str(e),\n",
    "            }\n",
    "        )\n",
    "\n",
    "# Convert results to DataFrame\n",
    "results_df = pd.DataFrame(results)\n",
    "\n",
    "# Summary statistics\n",
    "print(f\"\\nTotal rows: {len(results_df)}\")\n",
    "print(f\"Rows with imagery: {(results_df['items_found'] > 0).sum()}\")\n",
    "print(f\"Total items found: {results_df['items_found'].sum()}\")"
   ]
  },
  {
   "cell_type": "code",
   "execution_count": null,
   "metadata": {},
   "outputs": [],
   "source": [
    "# Show rows with imagery\n",
    "rows_with_imagery = results_df[results_df[\"items_found\"] > 0]\n",
    "if len(rows_with_imagery) > 0:\n",
    "    print(\"\\nRows with imagery:\")\n",
    "    for _, row in rows_with_imagery.iterrows():\n",
    "        print(\n",
    "            f\"  Row {row['row_index']}: {row['items_found']} items ({row['datetime_range']})\"\n",
    "        )"
   ]
  },
  {
   "cell_type": "code",
   "execution_count": null,
   "metadata": {},
   "outputs": [],
   "source": [
    "# Step 3: Preview Items (Optional)\n",
    "item_id = {(i, item.id): i for i, item in enumerate(items)}\n",
    "item_sel = pn.widgets.Select(value=0, options=item_id, name=\"Select Item\")\n",
    "\n",
    "\n",
    "def get_preview(i):\n",
    "    return pn.panel(items[i].assets[\"rendered_preview\"].href, height=300)\n",
    "\n",
    "\n",
    "pn.Row(item_sel, pn.bind(get_preview, item_sel)).servable()"
   ]
  }
 ],
 "metadata": {
  "kernelspec": {
   "display_name": ".venv",
   "language": "python",
   "name": "python3"
  },
  "language_info": {
   "codemirror_mode": {
    "name": "ipython",
    "version": 3
   },
   "file_extension": ".py",
   "mimetype": "text/x-python",
   "name": "python",
   "nbconvert_exporter": "python",
   "pygments_lexer": "ipython3",
   "version": "3.12.3"
  }
 },
 "nbformat": 4,
 "nbformat_minor": 2
}
